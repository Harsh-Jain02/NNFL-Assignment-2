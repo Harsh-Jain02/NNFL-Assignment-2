{
  "nbformat": 4,
  "nbformat_minor": 0,
  "metadata": {
    "colab": {
      "name": "Final NNFL_Assignment_2_v2.ipynb",
      "provenance": [],
      "collapsed_sections": []
    },
    "kernelspec": {
      "name": "python3",
      "display_name": "Python 3"
    },
    "language_info": {
      "name": "python"
    },
    "accelerator": "GPU",
    "widgets": {
      "application/vnd.jupyter.widget-state+json": {
        "083b3e462c384dd1a7874796dea777eb": {
          "model_module": "@jupyter-widgets/controls",
          "model_name": "HBoxModel",
          "model_module_version": "1.5.0",
          "state": {
            "_view_name": "HBoxView",
            "_dom_classes": [],
            "_model_name": "HBoxModel",
            "_view_module": "@jupyter-widgets/controls",
            "_model_module_version": "1.5.0",
            "_view_count": null,
            "_view_module_version": "1.5.0",
            "box_style": "",
            "layout": "IPY_MODEL_e5f10e4341d44e279063df30ed0181f3",
            "_model_module": "@jupyter-widgets/controls",
            "children": [
              "IPY_MODEL_536ebb7cb22c4a808071f286cae69343",
              "IPY_MODEL_cb0b4af1f28a4fd4957465587371f20a",
              "IPY_MODEL_017e53c74e464b1aa0f88948505f74a3"
            ]
          }
        },
        "e5f10e4341d44e279063df30ed0181f3": {
          "model_module": "@jupyter-widgets/base",
          "model_name": "LayoutModel",
          "model_module_version": "1.2.0",
          "state": {
            "_view_name": "LayoutView",
            "grid_template_rows": null,
            "right": null,
            "justify_content": null,
            "_view_module": "@jupyter-widgets/base",
            "overflow": null,
            "_model_module_version": "1.2.0",
            "_view_count": null,
            "flex_flow": null,
            "width": null,
            "min_width": null,
            "border": null,
            "align_items": null,
            "bottom": null,
            "_model_module": "@jupyter-widgets/base",
            "top": null,
            "grid_column": null,
            "overflow_y": null,
            "overflow_x": null,
            "grid_auto_flow": null,
            "grid_area": null,
            "grid_template_columns": null,
            "flex": null,
            "_model_name": "LayoutModel",
            "justify_items": null,
            "grid_row": null,
            "max_height": null,
            "align_content": null,
            "visibility": null,
            "align_self": null,
            "height": null,
            "min_height": null,
            "padding": null,
            "grid_auto_rows": null,
            "grid_gap": null,
            "max_width": null,
            "order": null,
            "_view_module_version": "1.2.0",
            "grid_template_areas": null,
            "object_position": null,
            "object_fit": null,
            "grid_auto_columns": null,
            "margin": null,
            "display": null,
            "left": null
          }
        },
        "536ebb7cb22c4a808071f286cae69343": {
          "model_module": "@jupyter-widgets/controls",
          "model_name": "HTMLModel",
          "model_module_version": "1.5.0",
          "state": {
            "_view_name": "HTMLView",
            "style": "IPY_MODEL_199ad31793a749228092e6f51406bc9d",
            "_dom_classes": [],
            "description": "",
            "_model_name": "HTMLModel",
            "placeholder": "​",
            "_view_module": "@jupyter-widgets/controls",
            "_model_module_version": "1.5.0",
            "value": "100%",
            "_view_count": null,
            "_view_module_version": "1.5.0",
            "description_tooltip": null,
            "_model_module": "@jupyter-widgets/controls",
            "layout": "IPY_MODEL_a682827906da4dba862e0f64052ef6fa"
          }
        },
        "cb0b4af1f28a4fd4957465587371f20a": {
          "model_module": "@jupyter-widgets/controls",
          "model_name": "FloatProgressModel",
          "model_module_version": "1.5.0",
          "state": {
            "_view_name": "ProgressView",
            "style": "IPY_MODEL_daccfe0eb6234b1e8aa0b46aea00e082",
            "_dom_classes": [],
            "description": "",
            "_model_name": "FloatProgressModel",
            "bar_style": "success",
            "max": 120,
            "_view_module": "@jupyter-widgets/controls",
            "_model_module_version": "1.5.0",
            "value": 120,
            "_view_count": null,
            "_view_module_version": "1.5.0",
            "orientation": "horizontal",
            "min": 0,
            "description_tooltip": null,
            "_model_module": "@jupyter-widgets/controls",
            "layout": "IPY_MODEL_757976010bc54e28b8532b692327429f"
          }
        },
        "017e53c74e464b1aa0f88948505f74a3": {
          "model_module": "@jupyter-widgets/controls",
          "model_name": "HTMLModel",
          "model_module_version": "1.5.0",
          "state": {
            "_view_name": "HTMLView",
            "style": "IPY_MODEL_fd18aac85efe4f0e85b620062b35b333",
            "_dom_classes": [],
            "description": "",
            "_model_name": "HTMLModel",
            "placeholder": "​",
            "_view_module": "@jupyter-widgets/controls",
            "_model_module_version": "1.5.0",
            "value": " 120/120 [02:15&lt;00:00,  1.22it/s]",
            "_view_count": null,
            "_view_module_version": "1.5.0",
            "description_tooltip": null,
            "_model_module": "@jupyter-widgets/controls",
            "layout": "IPY_MODEL_16ede14bd2884d1ea0e534e5db2509d5"
          }
        },
        "199ad31793a749228092e6f51406bc9d": {
          "model_module": "@jupyter-widgets/controls",
          "model_name": "DescriptionStyleModel",
          "model_module_version": "1.5.0",
          "state": {
            "_view_name": "StyleView",
            "_model_name": "DescriptionStyleModel",
            "description_width": "",
            "_view_module": "@jupyter-widgets/base",
            "_model_module_version": "1.5.0",
            "_view_count": null,
            "_view_module_version": "1.2.0",
            "_model_module": "@jupyter-widgets/controls"
          }
        },
        "a682827906da4dba862e0f64052ef6fa": {
          "model_module": "@jupyter-widgets/base",
          "model_name": "LayoutModel",
          "model_module_version": "1.2.0",
          "state": {
            "_view_name": "LayoutView",
            "grid_template_rows": null,
            "right": null,
            "justify_content": null,
            "_view_module": "@jupyter-widgets/base",
            "overflow": null,
            "_model_module_version": "1.2.0",
            "_view_count": null,
            "flex_flow": null,
            "width": null,
            "min_width": null,
            "border": null,
            "align_items": null,
            "bottom": null,
            "_model_module": "@jupyter-widgets/base",
            "top": null,
            "grid_column": null,
            "overflow_y": null,
            "overflow_x": null,
            "grid_auto_flow": null,
            "grid_area": null,
            "grid_template_columns": null,
            "flex": null,
            "_model_name": "LayoutModel",
            "justify_items": null,
            "grid_row": null,
            "max_height": null,
            "align_content": null,
            "visibility": null,
            "align_self": null,
            "height": null,
            "min_height": null,
            "padding": null,
            "grid_auto_rows": null,
            "grid_gap": null,
            "max_width": null,
            "order": null,
            "_view_module_version": "1.2.0",
            "grid_template_areas": null,
            "object_position": null,
            "object_fit": null,
            "grid_auto_columns": null,
            "margin": null,
            "display": null,
            "left": null
          }
        },
        "daccfe0eb6234b1e8aa0b46aea00e082": {
          "model_module": "@jupyter-widgets/controls",
          "model_name": "ProgressStyleModel",
          "model_module_version": "1.5.0",
          "state": {
            "_view_name": "StyleView",
            "_model_name": "ProgressStyleModel",
            "description_width": "",
            "_view_module": "@jupyter-widgets/base",
            "_model_module_version": "1.5.0",
            "_view_count": null,
            "_view_module_version": "1.2.0",
            "bar_color": null,
            "_model_module": "@jupyter-widgets/controls"
          }
        },
        "757976010bc54e28b8532b692327429f": {
          "model_module": "@jupyter-widgets/base",
          "model_name": "LayoutModel",
          "model_module_version": "1.2.0",
          "state": {
            "_view_name": "LayoutView",
            "grid_template_rows": null,
            "right": null,
            "justify_content": null,
            "_view_module": "@jupyter-widgets/base",
            "overflow": null,
            "_model_module_version": "1.2.0",
            "_view_count": null,
            "flex_flow": null,
            "width": null,
            "min_width": null,
            "border": null,
            "align_items": null,
            "bottom": null,
            "_model_module": "@jupyter-widgets/base",
            "top": null,
            "grid_column": null,
            "overflow_y": null,
            "overflow_x": null,
            "grid_auto_flow": null,
            "grid_area": null,
            "grid_template_columns": null,
            "flex": null,
            "_model_name": "LayoutModel",
            "justify_items": null,
            "grid_row": null,
            "max_height": null,
            "align_content": null,
            "visibility": null,
            "align_self": null,
            "height": null,
            "min_height": null,
            "padding": null,
            "grid_auto_rows": null,
            "grid_gap": null,
            "max_width": null,
            "order": null,
            "_view_module_version": "1.2.0",
            "grid_template_areas": null,
            "object_position": null,
            "object_fit": null,
            "grid_auto_columns": null,
            "margin": null,
            "display": null,
            "left": null
          }
        },
        "fd18aac85efe4f0e85b620062b35b333": {
          "model_module": "@jupyter-widgets/controls",
          "model_name": "DescriptionStyleModel",
          "model_module_version": "1.5.0",
          "state": {
            "_view_name": "StyleView",
            "_model_name": "DescriptionStyleModel",
            "description_width": "",
            "_view_module": "@jupyter-widgets/base",
            "_model_module_version": "1.5.0",
            "_view_count": null,
            "_view_module_version": "1.2.0",
            "_model_module": "@jupyter-widgets/controls"
          }
        },
        "16ede14bd2884d1ea0e534e5db2509d5": {
          "model_module": "@jupyter-widgets/base",
          "model_name": "LayoutModel",
          "model_module_version": "1.2.0",
          "state": {
            "_view_name": "LayoutView",
            "grid_template_rows": null,
            "right": null,
            "justify_content": null,
            "_view_module": "@jupyter-widgets/base",
            "overflow": null,
            "_model_module_version": "1.2.0",
            "_view_count": null,
            "flex_flow": null,
            "width": null,
            "min_width": null,
            "border": null,
            "align_items": null,
            "bottom": null,
            "_model_module": "@jupyter-widgets/base",
            "top": null,
            "grid_column": null,
            "overflow_y": null,
            "overflow_x": null,
            "grid_auto_flow": null,
            "grid_area": null,
            "grid_template_columns": null,
            "flex": null,
            "_model_name": "LayoutModel",
            "justify_items": null,
            "grid_row": null,
            "max_height": null,
            "align_content": null,
            "visibility": null,
            "align_self": null,
            "height": null,
            "min_height": null,
            "padding": null,
            "grid_auto_rows": null,
            "grid_gap": null,
            "max_width": null,
            "order": null,
            "_view_module_version": "1.2.0",
            "grid_template_areas": null,
            "object_position": null,
            "object_fit": null,
            "grid_auto_columns": null,
            "margin": null,
            "display": null,
            "left": null
          }
        },
        "24a133838e024057992ecd3d45e9574c": {
          "model_module": "@jupyter-widgets/controls",
          "model_name": "HBoxModel",
          "model_module_version": "1.5.0",
          "state": {
            "_view_name": "HBoxView",
            "_dom_classes": [],
            "_model_name": "HBoxModel",
            "_view_module": "@jupyter-widgets/controls",
            "_model_module_version": "1.5.0",
            "_view_count": null,
            "_view_module_version": "1.5.0",
            "box_style": "",
            "layout": "IPY_MODEL_ac2ea035be6d4350839d7be74f647bf4",
            "_model_module": "@jupyter-widgets/controls",
            "children": [
              "IPY_MODEL_3c5072d8b35c4f0cae7724ecbdebfb5c",
              "IPY_MODEL_0f3a30064a8a49959b8e3025588cfa18",
              "IPY_MODEL_ee7261d36ddd493ca8e90984e19e358f"
            ]
          }
        },
        "ac2ea035be6d4350839d7be74f647bf4": {
          "model_module": "@jupyter-widgets/base",
          "model_name": "LayoutModel",
          "model_module_version": "1.2.0",
          "state": {
            "_view_name": "LayoutView",
            "grid_template_rows": null,
            "right": null,
            "justify_content": null,
            "_view_module": "@jupyter-widgets/base",
            "overflow": null,
            "_model_module_version": "1.2.0",
            "_view_count": null,
            "flex_flow": null,
            "width": null,
            "min_width": null,
            "border": null,
            "align_items": null,
            "bottom": null,
            "_model_module": "@jupyter-widgets/base",
            "top": null,
            "grid_column": null,
            "overflow_y": null,
            "overflow_x": null,
            "grid_auto_flow": null,
            "grid_area": null,
            "grid_template_columns": null,
            "flex": null,
            "_model_name": "LayoutModel",
            "justify_items": null,
            "grid_row": null,
            "max_height": null,
            "align_content": null,
            "visibility": null,
            "align_self": null,
            "height": null,
            "min_height": null,
            "padding": null,
            "grid_auto_rows": null,
            "grid_gap": null,
            "max_width": null,
            "order": null,
            "_view_module_version": "1.2.0",
            "grid_template_areas": null,
            "object_position": null,
            "object_fit": null,
            "grid_auto_columns": null,
            "margin": null,
            "display": null,
            "left": null
          }
        },
        "3c5072d8b35c4f0cae7724ecbdebfb5c": {
          "model_module": "@jupyter-widgets/controls",
          "model_name": "HTMLModel",
          "model_module_version": "1.5.0",
          "state": {
            "_view_name": "HTMLView",
            "style": "IPY_MODEL_9eb2a3f712304bb4b90148e535ef21da",
            "_dom_classes": [],
            "description": "",
            "_model_name": "HTMLModel",
            "placeholder": "​",
            "_view_module": "@jupyter-widgets/controls",
            "_model_module_version": "1.5.0",
            "value": "100%",
            "_view_count": null,
            "_view_module_version": "1.5.0",
            "description_tooltip": null,
            "_model_module": "@jupyter-widgets/controls",
            "layout": "IPY_MODEL_e4aae8095b1e4e6a86ba1b03e9c3a48e"
          }
        },
        "0f3a30064a8a49959b8e3025588cfa18": {
          "model_module": "@jupyter-widgets/controls",
          "model_name": "FloatProgressModel",
          "model_module_version": "1.5.0",
          "state": {
            "_view_name": "ProgressView",
            "style": "IPY_MODEL_48428f6af61b40778db6857abc353866",
            "_dom_classes": [],
            "description": "",
            "_model_name": "FloatProgressModel",
            "bar_style": "success",
            "max": 20,
            "_view_module": "@jupyter-widgets/controls",
            "_model_module_version": "1.5.0",
            "value": 20,
            "_view_count": null,
            "_view_module_version": "1.5.0",
            "orientation": "horizontal",
            "min": 0,
            "description_tooltip": null,
            "_model_module": "@jupyter-widgets/controls",
            "layout": "IPY_MODEL_7ae0faefc6f549158d7fcec0940b83f4"
          }
        },
        "ee7261d36ddd493ca8e90984e19e358f": {
          "model_module": "@jupyter-widgets/controls",
          "model_name": "HTMLModel",
          "model_module_version": "1.5.0",
          "state": {
            "_view_name": "HTMLView",
            "style": "IPY_MODEL_ade4b3183cac412898f03436b8e07f60",
            "_dom_classes": [],
            "description": "",
            "_model_name": "HTMLModel",
            "placeholder": "​",
            "_view_module": "@jupyter-widgets/controls",
            "_model_module_version": "1.5.0",
            "value": " 20/20 [00:32&lt;00:00,  1.52s/it]",
            "_view_count": null,
            "_view_module_version": "1.5.0",
            "description_tooltip": null,
            "_model_module": "@jupyter-widgets/controls",
            "layout": "IPY_MODEL_87dbf020ee1f4cb9bdbf19279a4f1032"
          }
        },
        "9eb2a3f712304bb4b90148e535ef21da": {
          "model_module": "@jupyter-widgets/controls",
          "model_name": "DescriptionStyleModel",
          "model_module_version": "1.5.0",
          "state": {
            "_view_name": "StyleView",
            "_model_name": "DescriptionStyleModel",
            "description_width": "",
            "_view_module": "@jupyter-widgets/base",
            "_model_module_version": "1.5.0",
            "_view_count": null,
            "_view_module_version": "1.2.0",
            "_model_module": "@jupyter-widgets/controls"
          }
        },
        "e4aae8095b1e4e6a86ba1b03e9c3a48e": {
          "model_module": "@jupyter-widgets/base",
          "model_name": "LayoutModel",
          "model_module_version": "1.2.0",
          "state": {
            "_view_name": "LayoutView",
            "grid_template_rows": null,
            "right": null,
            "justify_content": null,
            "_view_module": "@jupyter-widgets/base",
            "overflow": null,
            "_model_module_version": "1.2.0",
            "_view_count": null,
            "flex_flow": null,
            "width": null,
            "min_width": null,
            "border": null,
            "align_items": null,
            "bottom": null,
            "_model_module": "@jupyter-widgets/base",
            "top": null,
            "grid_column": null,
            "overflow_y": null,
            "overflow_x": null,
            "grid_auto_flow": null,
            "grid_area": null,
            "grid_template_columns": null,
            "flex": null,
            "_model_name": "LayoutModel",
            "justify_items": null,
            "grid_row": null,
            "max_height": null,
            "align_content": null,
            "visibility": null,
            "align_self": null,
            "height": null,
            "min_height": null,
            "padding": null,
            "grid_auto_rows": null,
            "grid_gap": null,
            "max_width": null,
            "order": null,
            "_view_module_version": "1.2.0",
            "grid_template_areas": null,
            "object_position": null,
            "object_fit": null,
            "grid_auto_columns": null,
            "margin": null,
            "display": null,
            "left": null
          }
        },
        "48428f6af61b40778db6857abc353866": {
          "model_module": "@jupyter-widgets/controls",
          "model_name": "ProgressStyleModel",
          "model_module_version": "1.5.0",
          "state": {
            "_view_name": "StyleView",
            "_model_name": "ProgressStyleModel",
            "description_width": "",
            "_view_module": "@jupyter-widgets/base",
            "_model_module_version": "1.5.0",
            "_view_count": null,
            "_view_module_version": "1.2.0",
            "bar_color": null,
            "_model_module": "@jupyter-widgets/controls"
          }
        },
        "7ae0faefc6f549158d7fcec0940b83f4": {
          "model_module": "@jupyter-widgets/base",
          "model_name": "LayoutModel",
          "model_module_version": "1.2.0",
          "state": {
            "_view_name": "LayoutView",
            "grid_template_rows": null,
            "right": null,
            "justify_content": null,
            "_view_module": "@jupyter-widgets/base",
            "overflow": null,
            "_model_module_version": "1.2.0",
            "_view_count": null,
            "flex_flow": null,
            "width": null,
            "min_width": null,
            "border": null,
            "align_items": null,
            "bottom": null,
            "_model_module": "@jupyter-widgets/base",
            "top": null,
            "grid_column": null,
            "overflow_y": null,
            "overflow_x": null,
            "grid_auto_flow": null,
            "grid_area": null,
            "grid_template_columns": null,
            "flex": null,
            "_model_name": "LayoutModel",
            "justify_items": null,
            "grid_row": null,
            "max_height": null,
            "align_content": null,
            "visibility": null,
            "align_self": null,
            "height": null,
            "min_height": null,
            "padding": null,
            "grid_auto_rows": null,
            "grid_gap": null,
            "max_width": null,
            "order": null,
            "_view_module_version": "1.2.0",
            "grid_template_areas": null,
            "object_position": null,
            "object_fit": null,
            "grid_auto_columns": null,
            "margin": null,
            "display": null,
            "left": null
          }
        },
        "ade4b3183cac412898f03436b8e07f60": {
          "model_module": "@jupyter-widgets/controls",
          "model_name": "DescriptionStyleModel",
          "model_module_version": "1.5.0",
          "state": {
            "_view_name": "StyleView",
            "_model_name": "DescriptionStyleModel",
            "description_width": "",
            "_view_module": "@jupyter-widgets/base",
            "_model_module_version": "1.5.0",
            "_view_count": null,
            "_view_module_version": "1.2.0",
            "_model_module": "@jupyter-widgets/controls"
          }
        },
        "87dbf020ee1f4cb9bdbf19279a4f1032": {
          "model_module": "@jupyter-widgets/base",
          "model_name": "LayoutModel",
          "model_module_version": "1.2.0",
          "state": {
            "_view_name": "LayoutView",
            "grid_template_rows": null,
            "right": null,
            "justify_content": null,
            "_view_module": "@jupyter-widgets/base",
            "overflow": null,
            "_model_module_version": "1.2.0",
            "_view_count": null,
            "flex_flow": null,
            "width": null,
            "min_width": null,
            "border": null,
            "align_items": null,
            "bottom": null,
            "_model_module": "@jupyter-widgets/base",
            "top": null,
            "grid_column": null,
            "overflow_y": null,
            "overflow_x": null,
            "grid_auto_flow": null,
            "grid_area": null,
            "grid_template_columns": null,
            "flex": null,
            "_model_name": "LayoutModel",
            "justify_items": null,
            "grid_row": null,
            "max_height": null,
            "align_content": null,
            "visibility": null,
            "align_self": null,
            "height": null,
            "min_height": null,
            "padding": null,
            "grid_auto_rows": null,
            "grid_gap": null,
            "max_width": null,
            "order": null,
            "_view_module_version": "1.2.0",
            "grid_template_areas": null,
            "object_position": null,
            "object_fit": null,
            "grid_auto_columns": null,
            "margin": null,
            "display": null,
            "left": null
          }
        }
      }
    }
  },
  "cells": [
    {
      "cell_type": "code",
      "metadata": {
        "colab": {
          "base_uri": "https://localhost:8080/"
        },
        "id": "zCEHHbCjM_Of",
        "outputId": "44bd569d-b6f1-4c1c-a23f-21a7ea212fcd"
      },
      "source": [
        "from google.colab import drive\n",
        "drive.mount('/content/drive')"
      ],
      "execution_count": null,
      "outputs": [
        {
          "output_type": "stream",
          "name": "stdout",
          "text": [
            "Drive already mounted at /content/drive; to attempt to forcibly remount, call drive.mount(\"/content/drive\", force_remount=True).\n"
          ]
        }
      ]
    },
    {
      "cell_type": "code",
      "metadata": {
        "id": "UAPsQr8uNXbR"
      },
      "source": [
        "# %cd /content/drive/MyDrive/NNFL_Assignment_2/"
      ],
      "execution_count": null,
      "outputs": []
    },
    {
      "cell_type": "code",
      "metadata": {
        "id": "--ITYVv8NfWh"
      },
      "source": [
        "# !sudo unzip -q nnfl-2021-assignment-2.zip"
      ],
      "execution_count": null,
      "outputs": []
    },
    {
      "cell_type": "markdown",
      "metadata": {
        "id": "Jb469rJTUEat"
      },
      "source": [
        "# Imports"
      ]
    },
    {
      "cell_type": "code",
      "metadata": {
        "id": "1O_udA7BNJD2"
      },
      "source": [
        "import csv\n",
        "import time\n",
        "import gc\n",
        "import numpy as np\n",
        "import cv2\n",
        "import sys\n",
        "import matplotlib.pyplot as plt\n",
        "import tensorflow as tf\n",
        "import random\n",
        "from tensorflow.keras import layers, Model\n",
        "from keras.regularizers import l2"
      ],
      "execution_count": null,
      "outputs": []
    },
    {
      "cell_type": "code",
      "metadata": {
        "id": "iB62LNQAzvEQ"
      },
      "source": [
        "def custom_set_seed(x):\n",
        "  tf.random.set_seed(x)\n",
        "  random.seed(x)\n",
        "  np.random.seed(x)"
      ],
      "execution_count": null,
      "outputs": []
    },
    {
      "cell_type": "code",
      "metadata": {
        "id": "UblhzYVp0JkY"
      },
      "source": [
        "custom_set_seed(0)"
      ],
      "execution_count": null,
      "outputs": []
    },
    {
      "cell_type": "markdown",
      "metadata": {
        "id": "ZWDEPZ9GOOvw"
      },
      "source": [
        "# Loading Data"
      ]
    },
    {
      "cell_type": "code",
      "metadata": {
        "colab": {
          "base_uri": "https://localhost:8080/"
        },
        "id": "ZzmgVTHeN06Z",
        "outputId": "62072b37-b917-4998-c535-483286889c88"
      },
      "source": [
        "s = time.time()\n",
        "\n",
        "train_vid_names = []\n",
        "train_vid_label = []\n",
        "\n",
        "train_csv = open('/content/drive/MyDrive/NNFL_Assignment_2/train.csv')\n",
        "reader = csv.DictReader(train_csv)\n",
        "\n",
        "for row in reader:\n",
        "    train_vid_names.append(row['File'])\n",
        "    train_vid_label.append([1,0] if row['True_Label']=='fire' else [0,1])\n",
        "    \n",
        "train_csv.close()\n",
        "train_vid_label = np.array(train_vid_label)\n",
        "e = time.time()\n",
        "print(e-s)"
      ],
      "execution_count": null,
      "outputs": [
        {
          "output_type": "stream",
          "name": "stdout",
          "text": [
            "0.025763988494873047\n"
          ]
        }
      ]
    },
    {
      "cell_type": "code",
      "metadata": {
        "id": "RVOgvhTIOTDD"
      },
      "source": [
        "from tqdm.auto import tqdm"
      ],
      "execution_count": null,
      "outputs": []
    },
    {
      "cell_type": "code",
      "metadata": {
        "colab": {
          "base_uri": "https://localhost:8080/",
          "height": 84,
          "referenced_widgets": [
            "083b3e462c384dd1a7874796dea777eb",
            "e5f10e4341d44e279063df30ed0181f3",
            "536ebb7cb22c4a808071f286cae69343",
            "cb0b4af1f28a4fd4957465587371f20a",
            "017e53c74e464b1aa0f88948505f74a3",
            "199ad31793a749228092e6f51406bc9d",
            "a682827906da4dba862e0f64052ef6fa",
            "daccfe0eb6234b1e8aa0b46aea00e082",
            "757976010bc54e28b8532b692327429f",
            "fd18aac85efe4f0e85b620062b35b333",
            "16ede14bd2884d1ea0e534e5db2509d5"
          ]
        },
        "id": "BTQdedALTGpK",
        "outputId": "c0adce60-6838-4727-a7ea-565a246d09c7"
      },
      "source": [
        "max_frames = 120\n",
        "frame_size = (128, 128)\n",
        "\n",
        "frames = np.zeros((len(train_vid_names), max_frames, frame_size[0], frame_size[1], 3), dtype=np.float32)\n",
        "frame_count = []\n",
        "train_folder = '/content/drive/MyDrive/NNFL_Assignment_2/train/'\n",
        "\n",
        "print(sys.getsizeof(frames))\n",
        "gc.collect()\n",
        "\n",
        "s = time.time()\n",
        "\n",
        "for i in tqdm(range(len(train_vid_names))):\n",
        "    \n",
        "    vid = cv2.VideoCapture(train_folder+train_vid_names[i])\n",
        "    \n",
        "    \n",
        "    # Load full video in temp\n",
        "    temp = [] \n",
        "    ret, frame = vid.read()\n",
        "    while ret:\n",
        "        temp.append(cv2.resize(frame,frame_size))\n",
        "        ret, frame = vid.read()\n",
        "     \n",
        "    length = len(temp)\n",
        "    \n",
        "    if length < max_frames:\n",
        "        \n",
        "        pads_required = max_frames % length\n",
        "        each_frame_multiplicity = max_frames // length\n",
        "        for _ in range(len(temp)):\n",
        "            for __ in range(each_frame_multiplicity):\n",
        "                frames[i][pads_required + _*each_frame_multiplicity + __] = temp[_]\n",
        "    else:\n",
        "        \n",
        "        jump = length / max_frames\n",
        "        for _ in range(max_frames):\n",
        "            frames[i][_] = temp[int(_*jump)]\n",
        "    # print(i)\n",
        "    frame_count.append(frames[i].shape)\n",
        "    gc.collect()\n",
        "\n",
        "e = time.time()\n",
        "print(e-s)"
      ],
      "execution_count": null,
      "outputs": [
        {
          "output_type": "stream",
          "name": "stdout",
          "text": [
            "2831155360\n"
          ]
        },
        {
          "output_type": "display_data",
          "data": {
            "application/vnd.jupyter.widget-view+json": {
              "model_id": "083b3e462c384dd1a7874796dea777eb",
              "version_minor": 0,
              "version_major": 2
            },
            "text/plain": [
              "  0%|          | 0/120 [00:00<?, ?it/s]"
            ]
          },
          "metadata": {}
        },
        {
          "output_type": "stream",
          "name": "stdout",
          "text": [
            "135.59601950645447\n"
          ]
        }
      ]
    },
    {
      "cell_type": "code",
      "metadata": {
        "colab": {
          "base_uri": "https://localhost:8080/"
        },
        "id": "hRagoIj1TH0i",
        "outputId": "adaed739-284f-412a-98de-9ce53b946b97"
      },
      "source": [
        "gc.collect()"
      ],
      "execution_count": null,
      "outputs": [
        {
          "output_type": "execute_result",
          "data": {
            "text/plain": [
              "531"
            ]
          },
          "metadata": {},
          "execution_count": 18
        }
      ]
    },
    {
      "cell_type": "markdown",
      "metadata": {
        "id": "BpLPH1x7Tg6M"
      },
      "source": [
        "# Model"
      ]
    },
    {
      "cell_type": "code",
      "metadata": {
        "colab": {
          "base_uri": "https://localhost:8080/"
        },
        "id": "87iKzNuXTMdR",
        "outputId": "e0748187-392b-4f47-fbfc-77d6fa4b8534"
      },
      "source": [
        "gpus = tf.config.experimental.list_physical_devices('GPU')\n",
        "for i in gpus:\n",
        "    print(i)\n",
        "    tf.config.experimental.set_memory_growth(i, True)"
      ],
      "execution_count": null,
      "outputs": [
        {
          "output_type": "stream",
          "name": "stdout",
          "text": [
            "PhysicalDevice(name='/physical_device:GPU:0', device_type='GPU')\n"
          ]
        }
      ]
    },
    {
      "cell_type": "code",
      "metadata": {
        "id": "m7FySJx0TOWW"
      },
      "source": [
        "model = tf.keras.Sequential()\n",
        "model.add(tf.keras.Input(shape = (max_frames, frame_size[0], frame_size[1], 3)))\n",
        "\n",
        "model.add(layers.TimeDistributed(layers.Conv2D(12, (3, 3), activation='relu')))\n",
        "model.add(layers.TimeDistributed(layers.Conv2D(25, (3, 3), activation='relu')))\n",
        "model.add(layers.TimeDistributed(layers.Conv2D(50, (3, 3), activation='relu')))\n",
        "model.add(layers.TimeDistributed(layers.MaxPool2D()))\n",
        "\n",
        "model.add(layers.TimeDistributed(layers.Conv2D(75, (3, 3), activation='relu')))\n",
        "model.add(layers.TimeDistributed(layers.MaxPool2D()))\n",
        "\n",
        "model.add(layers.TimeDistributed(layers.Conv2D(100, (3, 3), activation='relu')))\n",
        "model.add(layers.TimeDistributed(layers.MaxPool2D()))\n",
        "\n",
        "model.add(layers.TimeDistributed(layers.Conv2D(128, (3, 3), activation='relu')))\n",
        "model.add(layers.TimeDistributed(layers.MaxPool2D()))\n",
        "\n",
        "model.add(layers.TimeDistributed(layers.Conv2D(256, (3, 3), activation='relu')))\n",
        "model.add(layers.TimeDistributed(layers.MaxPool2D()))\n",
        "\n",
        "model.add(layers.TimeDistributed(layers.Flatten()))\n",
        "\n",
        "model.add(layers.LSTM(25, return_sequences=False,\n",
        "                      kernel_regularizer=l2(0.01),\n",
        "                      recurrent_regularizer=l2(0.01),\n",
        "                      bias_regularizer=l2(0.01)\n",
        "                      ))\n",
        "\n",
        "model.add(layers.Dense(75, activation='relu'))\n",
        "model.add(layers.Dropout(0.1))\n",
        "\n",
        "model.add(layers.Dense(50, activation='relu'))\n",
        "model.add(layers.Dropout(0.15))\n",
        "\n",
        "model.add(layers.Dense(25, activation='relu'))\n",
        "model.add(layers.Dropout(0.2))\n",
        "\n",
        "model.add(layers.Dense(2, activation='softmax'))"
      ],
      "execution_count": null,
      "outputs": []
    },
    {
      "cell_type": "code",
      "metadata": {
        "colab": {
          "base_uri": "https://localhost:8080/"
        },
        "id": "VNzN97tATPho",
        "outputId": "3d53c642-3eae-4b59-e7c6-23729c0f8e5d"
      },
      "source": [
        "model.summary()"
      ],
      "execution_count": null,
      "outputs": [
        {
          "output_type": "stream",
          "name": "stdout",
          "text": [
            "Model: \"sequential\"\n",
            "_________________________________________________________________\n",
            " Layer (type)                Output Shape              Param #   \n",
            "=================================================================\n",
            " time_distributed (TimeDistr  (None, 120, 126, 126, 12  336      \n",
            " ibuted)                     )                                   \n",
            "                                                                 \n",
            " time_distributed_1 (TimeDis  (None, 120, 124, 124, 25  2725     \n",
            " tributed)                   )                                   \n",
            "                                                                 \n",
            " time_distributed_2 (TimeDis  (None, 120, 122, 122, 50  11300    \n",
            " tributed)                   )                                   \n",
            "                                                                 \n",
            " time_distributed_3 (TimeDis  (None, 120, 61, 61, 50)  0         \n",
            " tributed)                                                       \n",
            "                                                                 \n",
            " time_distributed_4 (TimeDis  (None, 120, 59, 59, 75)  33825     \n",
            " tributed)                                                       \n",
            "                                                                 \n",
            " time_distributed_5 (TimeDis  (None, 120, 29, 29, 75)  0         \n",
            " tributed)                                                       \n",
            "                                                                 \n",
            " time_distributed_6 (TimeDis  (None, 120, 27, 27, 100)  67600    \n",
            " tributed)                                                       \n",
            "                                                                 \n",
            " time_distributed_7 (TimeDis  (None, 120, 13, 13, 100)  0        \n",
            " tributed)                                                       \n",
            "                                                                 \n",
            " time_distributed_8 (TimeDis  (None, 120, 11, 11, 128)  115328   \n",
            " tributed)                                                       \n",
            "                                                                 \n",
            " time_distributed_9 (TimeDis  (None, 120, 5, 5, 128)   0         \n",
            " tributed)                                                       \n",
            "                                                                 \n",
            " time_distributed_10 (TimeDi  (None, 120, 3, 3, 256)   295168    \n",
            " stributed)                                                      \n",
            "                                                                 \n",
            " time_distributed_11 (TimeDi  (None, 120, 1, 1, 256)   0         \n",
            " stributed)                                                      \n",
            "                                                                 \n",
            " time_distributed_12 (TimeDi  (None, 120, 256)         0         \n",
            " stributed)                                                      \n",
            "                                                                 \n",
            " lstm (LSTM)                 (None, 25)                28200     \n",
            "                                                                 \n",
            " dense (Dense)               (None, 75)                1950      \n",
            "                                                                 \n",
            " dropout (Dropout)           (None, 75)                0         \n",
            "                                                                 \n",
            " dense_1 (Dense)             (None, 50)                3800      \n",
            "                                                                 \n",
            " dropout_1 (Dropout)         (None, 50)                0         \n",
            "                                                                 \n",
            " dense_2 (Dense)             (None, 25)                1275      \n",
            "                                                                 \n",
            " dropout_2 (Dropout)         (None, 25)                0         \n",
            "                                                                 \n",
            " dense_3 (Dense)             (None, 2)                 52        \n",
            "                                                                 \n",
            "=================================================================\n",
            "Total params: 561,559\n",
            "Trainable params: 561,559\n",
            "Non-trainable params: 0\n",
            "_________________________________________________________________\n"
          ]
        }
      ]
    },
    {
      "cell_type": "code",
      "metadata": {
        "id": "vyEMGZ7OTRuI"
      },
      "source": [
        "import sklearn\n",
        "from sklearn.model_selection import train_test_split\n",
        "\n",
        "# Split the data\n",
        "x_train, x_valid, y_train, y_valid = train_test_split(frames, train_vid_label, test_size=0.2, shuffle=True)\n",
        "# the_model.fit(x=x_train, y=y_train, batch_size=64, epochs=100, validation_data=(x_val, y_val))"
      ],
      "execution_count": null,
      "outputs": []
    },
    {
      "cell_type": "markdown",
      "metadata": {
        "id": "_7Kac-s9TkoV"
      },
      "source": [
        "# Training the model"
      ]
    },
    {
      "cell_type": "code",
      "metadata": {
        "colab": {
          "base_uri": "https://localhost:8080/"
        },
        "id": "UjM7V06laT_3",
        "outputId": "927e9e58-5eef-4859-e381-61eb1c01fac3"
      },
      "source": [
        "gc.collect()"
      ],
      "execution_count": null,
      "outputs": [
        {
          "output_type": "execute_result",
          "data": {
            "text/plain": [
              "3695"
            ]
          },
          "metadata": {},
          "execution_count": 15
        }
      ]
    },
    {
      "cell_type": "code",
      "metadata": {
        "colab": {
          "base_uri": "https://localhost:8080/"
        },
        "id": "JJpi9DtNTUvC",
        "outputId": "ee7368bb-f525-44a3-8414-fb30626576c5"
      },
      "source": [
        "model.compile(optimizer = tf.keras.optimizers.Adam(learning_rate=1e-4),\n",
        "                loss = 'categorical_crossentropy', metrics = ['accuracy'])\n",
        "history = model.fit(x=x_train, y=y_train, batch_size = 3, epochs = 100, validation_data=(x_valid, y_valid))"
      ],
      "execution_count": null,
      "outputs": [
        {
          "output_type": "stream",
          "name": "stdout",
          "text": [
            "Epoch 1/100\n",
            "32/32 [==============================] - 54s 1s/step - loss: 2.6113 - accuracy: 0.4062 - val_loss: 2.5270 - val_accuracy: 0.5833\n",
            "Epoch 2/100\n",
            "32/32 [==============================] - 35s 1s/step - loss: 2.5084 - accuracy: 0.5000 - val_loss: 2.4404 - val_accuracy: 0.5833\n",
            "Epoch 3/100\n",
            "32/32 [==============================] - 34s 1s/step - loss: 2.3805 - accuracy: 0.6250 - val_loss: 2.3561 - val_accuracy: 0.4583\n",
            "Epoch 4/100\n",
            "32/32 [==============================] - 34s 1s/step - loss: 2.3457 - accuracy: 0.4062 - val_loss: 2.2741 - val_accuracy: 0.5833\n",
            "Epoch 5/100\n",
            "32/32 [==============================] - 34s 1s/step - loss: 2.2505 - accuracy: 0.4479 - val_loss: 2.2001 - val_accuracy: 0.5417\n",
            "Epoch 6/100\n",
            "32/32 [==============================] - 35s 1s/step - loss: 2.1833 - accuracy: 0.4896 - val_loss: 2.1295 - val_accuracy: 0.5833\n",
            "Epoch 7/100\n",
            "32/32 [==============================] - 34s 1s/step - loss: 2.1041 - accuracy: 0.4896 - val_loss: 2.0618 - val_accuracy: 0.5833\n",
            "Epoch 8/100\n",
            "32/32 [==============================] - 34s 1s/step - loss: 2.0267 - accuracy: 0.6042 - val_loss: 2.0048 - val_accuracy: 0.3750\n",
            "Epoch 9/100\n",
            "32/32 [==============================] - 34s 1s/step - loss: 1.9769 - accuracy: 0.4583 - val_loss: 1.9467 - val_accuracy: 0.3750\n",
            "Epoch 10/100\n",
            "32/32 [==============================] - 34s 1s/step - loss: 1.9147 - accuracy: 0.4896 - val_loss: 1.8882 - val_accuracy: 0.4167\n",
            "Epoch 11/100\n",
            "32/32 [==============================] - 33s 1s/step - loss: 1.8597 - accuracy: 0.4583 - val_loss: 1.8309 - val_accuracy: 0.6250\n",
            "Epoch 12/100\n",
            "32/32 [==============================] - 34s 1s/step - loss: 1.8040 - accuracy: 0.5729 - val_loss: 1.7807 - val_accuracy: 0.5417\n",
            "Epoch 13/100\n",
            "32/32 [==============================] - 35s 1s/step - loss: 1.7529 - accuracy: 0.5521 - val_loss: 1.7428 - val_accuracy: 0.4167\n",
            "Epoch 14/100\n",
            "32/32 [==============================] - 34s 1s/step - loss: 1.7069 - accuracy: 0.5104 - val_loss: 1.6960 - val_accuracy: 0.4167\n",
            "Epoch 15/100\n",
            "32/32 [==============================] - 34s 1s/step - loss: 1.6571 - accuracy: 0.4896 - val_loss: 1.6532 - val_accuracy: 0.4167\n",
            "Epoch 16/100\n",
            "32/32 [==============================] - 35s 1s/step - loss: 1.6285 - accuracy: 0.4479 - val_loss: 1.6087 - val_accuracy: 0.4167\n",
            "Epoch 17/100\n",
            "32/32 [==============================] - 35s 1s/step - loss: 1.5883 - accuracy: 0.5312 - val_loss: 1.5719 - val_accuracy: 0.4167\n",
            "Epoch 18/100\n",
            "32/32 [==============================] - 34s 1s/step - loss: 1.5403 - accuracy: 0.5417 - val_loss: 1.5340 - val_accuracy: 0.4167\n",
            "Epoch 19/100\n",
            "32/32 [==============================] - 34s 1s/step - loss: 1.5222 - accuracy: 0.4896 - val_loss: 1.4985 - val_accuracy: 0.4167\n",
            "Epoch 20/100\n",
            "32/32 [==============================] - 35s 1s/step - loss: 1.4774 - accuracy: 0.5104 - val_loss: 1.4661 - val_accuracy: 0.4167\n",
            "Epoch 21/100\n",
            "32/32 [==============================] - 34s 1s/step - loss: 1.4514 - accuracy: 0.4792 - val_loss: 1.4440 - val_accuracy: 0.4167\n",
            "Epoch 22/100\n",
            "32/32 [==============================] - 35s 1s/step - loss: 1.4169 - accuracy: 0.5208 - val_loss: 1.4098 - val_accuracy: 0.4167\n",
            "Epoch 23/100\n",
            "32/32 [==============================] - 34s 1s/step - loss: 1.3849 - accuracy: 0.5312 - val_loss: 1.3833 - val_accuracy: 0.4167\n",
            "Epoch 24/100\n",
            "32/32 [==============================] - 34s 1s/step - loss: 1.3688 - accuracy: 0.4896 - val_loss: 1.3482 - val_accuracy: 0.4167\n",
            "Epoch 25/100\n",
            "32/32 [==============================] - 35s 1s/step - loss: 1.3397 - accuracy: 0.4479 - val_loss: 1.3350 - val_accuracy: 0.4167\n",
            "Epoch 26/100\n",
            "32/32 [==============================] - 35s 1s/step - loss: 1.3051 - accuracy: 0.5729 - val_loss: 1.3099 - val_accuracy: 0.4167\n",
            "Epoch 27/100\n",
            "32/32 [==============================] - 35s 1s/step - loss: 1.2991 - accuracy: 0.4896 - val_loss: 1.2848 - val_accuracy: 0.4167\n",
            "Epoch 28/100\n",
            "32/32 [==============================] - 35s 1s/step - loss: 1.2667 - accuracy: 0.4896 - val_loss: 1.2891 - val_accuracy: 0.4167\n",
            "Epoch 29/100\n",
            "32/32 [==============================] - 35s 1s/step - loss: 1.2558 - accuracy: 0.5417 - val_loss: 1.2469 - val_accuracy: 0.4167\n",
            "Epoch 30/100\n",
            "32/32 [==============================] - 35s 1s/step - loss: 1.2289 - accuracy: 0.5208 - val_loss: 1.2073 - val_accuracy: 0.6250\n",
            "Epoch 31/100\n",
            "32/32 [==============================] - 34s 1s/step - loss: 1.2072 - accuracy: 0.5000 - val_loss: 1.1996 - val_accuracy: 0.5833\n",
            "Epoch 32/100\n",
            "32/32 [==============================] - 34s 1s/step - loss: 1.2051 - accuracy: 0.4479 - val_loss: 1.1821 - val_accuracy: 0.7083\n",
            "Epoch 33/100\n",
            "32/32 [==============================] - 34s 1s/step - loss: 1.1710 - accuracy: 0.5729 - val_loss: 1.1536 - val_accuracy: 0.7083\n",
            "Epoch 34/100\n",
            "32/32 [==============================] - 35s 1s/step - loss: 1.1614 - accuracy: 0.4896 - val_loss: 1.1660 - val_accuracy: 0.4167\n",
            "Epoch 35/100\n",
            "32/32 [==============================] - 35s 1s/step - loss: 1.1562 - accuracy: 0.5625 - val_loss: 1.1416 - val_accuracy: 0.7083\n",
            "Epoch 36/100\n",
            "32/32 [==============================] - 35s 1s/step - loss: 1.1508 - accuracy: 0.4688 - val_loss: 1.1283 - val_accuracy: 0.7083\n",
            "Epoch 37/100\n",
            "32/32 [==============================] - 34s 1s/step - loss: 1.1388 - accuracy: 0.4479 - val_loss: 1.1203 - val_accuracy: 0.4167\n",
            "Epoch 38/100\n",
            "32/32 [==============================] - 35s 1s/step - loss: 1.1067 - accuracy: 0.5729 - val_loss: 1.1082 - val_accuracy: 0.4167\n",
            "Epoch 39/100\n",
            "32/32 [==============================] - 34s 1s/step - loss: 1.1064 - accuracy: 0.4896 - val_loss: 1.1108 - val_accuracy: 0.4167\n",
            "Epoch 40/100\n",
            "32/32 [==============================] - 34s 1s/step - loss: 1.0935 - accuracy: 0.5104 - val_loss: 1.0988 - val_accuracy: 0.4167\n",
            "Epoch 41/100\n",
            "32/32 [==============================] - 35s 1s/step - loss: 1.0837 - accuracy: 0.5208 - val_loss: 1.0798 - val_accuracy: 0.4167\n",
            "Epoch 42/100\n",
            "32/32 [==============================] - 35s 1s/step - loss: 1.0718 - accuracy: 0.5521 - val_loss: 1.0875 - val_accuracy: 0.4167\n",
            "Epoch 43/100\n",
            "32/32 [==============================] - 35s 1s/step - loss: 1.0690 - accuracy: 0.5521 - val_loss: 1.0597 - val_accuracy: 0.5417\n",
            "Epoch 44/100\n",
            "32/32 [==============================] - 35s 1s/step - loss: 1.0466 - accuracy: 0.5938 - val_loss: 1.0524 - val_accuracy: 0.5417\n",
            "Epoch 45/100\n",
            "32/32 [==============================] - 34s 1s/step - loss: 1.0333 - accuracy: 0.6771 - val_loss: 1.0452 - val_accuracy: 0.4167\n",
            "Epoch 46/100\n",
            "32/32 [==============================] - 34s 1s/step - loss: 1.0049 - accuracy: 0.6771 - val_loss: 0.9986 - val_accuracy: 0.6250\n",
            "Epoch 47/100\n",
            "32/32 [==============================] - 34s 1s/step - loss: 1.0254 - accuracy: 0.5521 - val_loss: 1.0171 - val_accuracy: 0.5833\n",
            "Epoch 48/100\n",
            "32/32 [==============================] - 34s 1s/step - loss: 1.0441 - accuracy: 0.5000 - val_loss: 1.0529 - val_accuracy: 0.4583\n",
            "Epoch 49/100\n",
            "32/32 [==============================] - 34s 1s/step - loss: 1.0058 - accuracy: 0.5833 - val_loss: 0.9763 - val_accuracy: 0.7083\n",
            "Epoch 50/100\n",
            "32/32 [==============================] - 34s 1s/step - loss: 0.9983 - accuracy: 0.5625 - val_loss: 1.0069 - val_accuracy: 0.5000\n",
            "Epoch 51/100\n",
            "32/32 [==============================] - 34s 1s/step - loss: 0.9571 - accuracy: 0.6979 - val_loss: 0.9784 - val_accuracy: 0.6250\n",
            "Epoch 52/100\n",
            "32/32 [==============================] - 34s 1s/step - loss: 0.9701 - accuracy: 0.5625 - val_loss: 0.9616 - val_accuracy: 0.6250\n",
            "Epoch 53/100\n",
            "32/32 [==============================] - 34s 1s/step - loss: 0.9947 - accuracy: 0.5729 - val_loss: 0.9271 - val_accuracy: 0.6667\n",
            "Epoch 54/100\n",
            "32/32 [==============================] - 35s 1s/step - loss: 0.9108 - accuracy: 0.6771 - val_loss: 0.9126 - val_accuracy: 0.8333\n",
            "Epoch 55/100\n",
            "32/32 [==============================] - 35s 1s/step - loss: 0.9356 - accuracy: 0.6562 - val_loss: 0.9255 - val_accuracy: 0.6667\n",
            "Epoch 56/100\n",
            "32/32 [==============================] - 34s 1s/step - loss: 0.9626 - accuracy: 0.5833 - val_loss: 0.9016 - val_accuracy: 0.7917\n",
            "Epoch 57/100\n",
            "32/32 [==============================] - 34s 1s/step - loss: 0.9249 - accuracy: 0.6562 - val_loss: 0.9659 - val_accuracy: 0.6667\n",
            "Epoch 58/100\n",
            "32/32 [==============================] - 34s 1s/step - loss: 0.8846 - accuracy: 0.7292 - val_loss: 0.8283 - val_accuracy: 0.7917\n",
            "Epoch 59/100\n",
            "32/32 [==============================] - 35s 1s/step - loss: 0.8336 - accuracy: 0.7917 - val_loss: 0.8054 - val_accuracy: 0.7917\n",
            "Epoch 60/100\n",
            "32/32 [==============================] - 35s 1s/step - loss: 0.8497 - accuracy: 0.6979 - val_loss: 0.8408 - val_accuracy: 0.7083\n",
            "Epoch 61/100\n",
            "32/32 [==============================] - 35s 1s/step - loss: 0.8633 - accuracy: 0.7083 - val_loss: 0.7705 - val_accuracy: 0.8750\n",
            "Epoch 62/100\n",
            "32/32 [==============================] - 34s 1s/step - loss: 0.8104 - accuracy: 0.7917 - val_loss: 0.7835 - val_accuracy: 0.8750\n",
            "Epoch 63/100\n",
            "32/32 [==============================] - 35s 1s/step - loss: 0.7935 - accuracy: 0.8229 - val_loss: 0.8507 - val_accuracy: 0.7500\n",
            "Epoch 64/100\n",
            "32/32 [==============================] - 34s 1s/step - loss: 1.1113 - accuracy: 0.5208 - val_loss: 1.0828 - val_accuracy: 0.4167\n",
            "Epoch 65/100\n",
            "32/32 [==============================] - 33s 1s/step - loss: 1.0046 - accuracy: 0.4896 - val_loss: 1.0067 - val_accuracy: 0.4167\n",
            "Epoch 66/100\n",
            "32/32 [==============================] - 34s 1s/step - loss: 0.9573 - accuracy: 0.5208 - val_loss: 0.9835 - val_accuracy: 0.4167\n",
            "Epoch 67/100\n",
            "32/32 [==============================] - 34s 1s/step - loss: 0.9561 - accuracy: 0.5104 - val_loss: 0.9460 - val_accuracy: 0.4167\n",
            "Epoch 68/100\n",
            "32/32 [==============================] - 34s 1s/step - loss: 0.9600 - accuracy: 0.4688 - val_loss: 0.9492 - val_accuracy: 0.4583\n",
            "Epoch 69/100\n",
            "32/32 [==============================] - 34s 1s/step - loss: 0.9270 - accuracy: 0.5417 - val_loss: 0.9246 - val_accuracy: 0.5000\n",
            "Epoch 70/100\n",
            "32/32 [==============================] - 35s 1s/step - loss: 0.9121 - accuracy: 0.5938 - val_loss: 0.8770 - val_accuracy: 0.6667\n",
            "Epoch 71/100\n",
            "32/32 [==============================] - 34s 1s/step - loss: 0.8813 - accuracy: 0.6562 - val_loss: 0.8643 - val_accuracy: 0.6250\n",
            "Epoch 72/100\n",
            "32/32 [==============================] - 34s 1s/step - loss: 0.8353 - accuracy: 0.6771 - val_loss: 0.9293 - val_accuracy: 0.5417\n",
            "Epoch 73/100\n",
            "32/32 [==============================] - 34s 1s/step - loss: 0.8400 - accuracy: 0.6146 - val_loss: 0.8463 - val_accuracy: 0.6667\n",
            "Epoch 74/100\n",
            "32/32 [==============================] - 34s 1s/step - loss: 0.7872 - accuracy: 0.7396 - val_loss: 0.7949 - val_accuracy: 0.7500\n",
            "Epoch 75/100\n",
            "32/32 [==============================] - 34s 1s/step - loss: 0.7768 - accuracy: 0.7396 - val_loss: 0.7781 - val_accuracy: 0.7500\n",
            "Epoch 76/100\n",
            "32/32 [==============================] - 34s 1s/step - loss: 0.8347 - accuracy: 0.6875 - val_loss: 0.8107 - val_accuracy: 0.6667\n",
            "Epoch 77/100\n",
            "32/32 [==============================] - 35s 1s/step - loss: 0.7914 - accuracy: 0.7604 - val_loss: 0.7797 - val_accuracy: 0.7083\n",
            "Epoch 78/100\n",
            "32/32 [==============================] - 34s 1s/step - loss: 0.7037 - accuracy: 0.7917 - val_loss: 0.7627 - val_accuracy: 0.7083\n",
            "Epoch 79/100\n",
            "32/32 [==============================] - 34s 1s/step - loss: 0.6766 - accuracy: 0.8125 - val_loss: 0.7553 - val_accuracy: 0.7083\n",
            "Epoch 80/100\n",
            "32/32 [==============================] - 34s 1s/step - loss: 0.6748 - accuracy: 0.8333 - val_loss: 0.7496 - val_accuracy: 0.7500\n",
            "Epoch 81/100\n",
            "32/32 [==============================] - 35s 1s/step - loss: 0.7555 - accuracy: 0.7604 - val_loss: 0.7759 - val_accuracy: 0.7083\n",
            "Epoch 82/100\n",
            "32/32 [==============================] - 34s 1s/step - loss: 0.6447 - accuracy: 0.8333 - val_loss: 0.6874 - val_accuracy: 0.7917\n",
            "Epoch 83/100\n",
            "32/32 [==============================] - 34s 1s/step - loss: 0.8571 - accuracy: 0.7188 - val_loss: 0.7833 - val_accuracy: 0.7500\n",
            "Epoch 84/100\n",
            "32/32 [==============================] - 34s 1s/step - loss: 0.8300 - accuracy: 0.7396 - val_loss: 0.7163 - val_accuracy: 0.7917\n",
            "Epoch 85/100\n",
            "32/32 [==============================] - 34s 1s/step - loss: 0.7376 - accuracy: 0.7812 - val_loss: 0.7546 - val_accuracy: 0.7500\n",
            "Epoch 86/100\n",
            "32/32 [==============================] - 34s 1s/step - loss: 0.6483 - accuracy: 0.8542 - val_loss: 0.7387 - val_accuracy: 0.7500\n",
            "Epoch 87/100\n",
            "32/32 [==============================] - 34s 1s/step - loss: 0.6728 - accuracy: 0.8333 - val_loss: 0.7618 - val_accuracy: 0.7500\n",
            "Epoch 88/100\n",
            "32/32 [==============================] - 34s 1s/step - loss: 0.6549 - accuracy: 0.8542 - val_loss: 0.7451 - val_accuracy: 0.7917\n",
            "Epoch 89/100\n",
            "32/32 [==============================] - 34s 1s/step - loss: 0.6406 - accuracy: 0.8333 - val_loss: 0.7781 - val_accuracy: 0.7083\n",
            "Epoch 90/100\n",
            "32/32 [==============================] - 34s 1s/step - loss: 0.6368 - accuracy: 0.8438 - val_loss: 0.7557 - val_accuracy: 0.7083\n",
            "Epoch 91/100\n",
            "32/32 [==============================] - 34s 1s/step - loss: 0.6501 - accuracy: 0.8542 - val_loss: 0.7443 - val_accuracy: 0.7083\n",
            "Epoch 92/100\n",
            "32/32 [==============================] - 34s 1s/step - loss: 0.6640 - accuracy: 0.8333 - val_loss: 0.6551 - val_accuracy: 0.7917\n",
            "Epoch 93/100\n",
            "32/32 [==============================] - 34s 1s/step - loss: 0.6845 - accuracy: 0.7708 - val_loss: 0.7339 - val_accuracy: 0.7500\n",
            "Epoch 94/100\n",
            "32/32 [==============================] - 34s 1s/step - loss: 0.8038 - accuracy: 0.7292 - val_loss: 1.0116 - val_accuracy: 0.5000\n",
            "Epoch 95/100\n",
            "32/32 [==============================] - 34s 1s/step - loss: 0.7890 - accuracy: 0.6979 - val_loss: 0.7589 - val_accuracy: 0.7500\n",
            "Epoch 96/100\n",
            "32/32 [==============================] - 34s 1s/step - loss: 0.6874 - accuracy: 0.7708 - val_loss: 0.7528 - val_accuracy: 0.7083\n",
            "Epoch 97/100\n",
            "32/32 [==============================] - 34s 1s/step - loss: 0.7001 - accuracy: 0.8229 - val_loss: 0.7263 - val_accuracy: 0.7500\n",
            "Epoch 98/100\n",
            "32/32 [==============================] - 34s 1s/step - loss: 0.6459 - accuracy: 0.8125 - val_loss: 0.7294 - val_accuracy: 0.7500\n",
            "Epoch 99/100\n",
            "32/32 [==============================] - 34s 1s/step - loss: 0.5916 - accuracy: 0.8542 - val_loss: 0.6810 - val_accuracy: 0.7917\n",
            "Epoch 100/100\n",
            "32/32 [==============================] - 34s 1s/step - loss: 0.6435 - accuracy: 0.8333 - val_loss: 0.6604 - val_accuracy: 0.7917\n"
          ]
        }
      ]
    },
    {
      "cell_type": "markdown",
      "metadata": {
        "id": "xPacwDbETsB-"
      },
      "source": [
        "# Plots"
      ]
    },
    {
      "cell_type": "code",
      "metadata": {
        "id": "M5flTVAnTWun",
        "colab": {
          "base_uri": "https://localhost:8080/",
          "height": 590
        },
        "outputId": "a34d0bdd-3a1d-44e9-8440-4fe17aa5c089"
      },
      "source": [
        "plt.plot(history.history['accuracy'])\n",
        "plt.plot(history.history['val_accuracy'])\n",
        "plt.title('Model Accuracy')\n",
        "plt.xlabel('epochs')\n",
        "plt.ylabel('Accuracy')\n",
        "plt.legend(['train', 'validation'], loc = 'lower right')\n",
        "plt.show()\n",
        "\n",
        "plt.plot(history.history['loss'])\n",
        "plt.plot(history.history['val_loss'])\n",
        "plt.title('Model Loses')\n",
        "plt.xlabel('Epochs')\n",
        "plt.ylabel('Loss')\n",
        "plt.legend(['train', 'validation'], loc = 'upper right')\n",
        "plt.show()\n",
        "\n",
        "gc.collect()"
      ],
      "execution_count": null,
      "outputs": [
        {
          "output_type": "display_data",
          "data": {
            "image/png": "[encoded data removed]",
            "text/plain": [
              "<Figure size 432x288 with 1 Axes>"
            ]
          },
          "metadata": {
            "needs_background": "light"
          }
        },
        {
          "output_type": "display_data",
          "data": {
            "image/png": "[encoded data removed]",
            "text/plain": [
              "<Figure size 432x288 with 1 Axes>"
            ]
          },
          "metadata": {
            "needs_background": "light"
          }
        },
        {
          "output_type": "execute_result",
          "data": {
            "text/plain": [
              "7138"
            ]
          },
          "metadata": {},
          "execution_count": 17
        }
      ]
    },
    {
      "cell_type": "code",
      "metadata": {
        "colab": {
          "base_uri": "https://localhost:8080/"
        },
        "id": "NRKXkR9MP4VP",
        "outputId": "93ac8518-f76f-4a79-a24c-e3b74f5496d8"
      },
      "source": [
        "model.save('/content/drive/MyDrive/NNFL_Assignment_2/saved_model_v2/')"
      ],
      "execution_count": null,
      "outputs": [
        {
          "output_type": "stream",
          "name": "stderr",
          "text": [
            "WARNING:absl:Found untraced functions such as lstm_cell_layer_call_fn, lstm_cell_layer_call_and_return_conditional_losses, lstm_cell_layer_call_fn, lstm_cell_layer_call_and_return_conditional_losses, lstm_cell_layer_call_and_return_conditional_losses while saving (showing 5 of 5). These functions will not be directly callable after loading.\n"
          ]
        },
        {
          "output_type": "stream",
          "name": "stdout",
          "text": [
            "INFO:tensorflow:Assets written to: /content/drive/MyDrive/NNFL_Assignment_2/saved_model_v2/assets\n"
          ]
        },
        {
          "output_type": "stream",
          "name": "stderr",
          "text": [
            "INFO:tensorflow:Assets written to: /content/drive/MyDrive/NNFL_Assignment_2/saved_model_v2/assets\n",
            "WARNING:absl:<keras.layers.recurrent.LSTMCell object at 0x7fc20006f290> has the same name 'LSTMCell' as a built-in Keras object. Consider renaming <class 'keras.layers.recurrent.LSTMCell'> to avoid naming conflicts when loading with `tf.keras.models.load_model`. If renaming is not possible, pass the object in the `custom_objects` parameter of the load function.\n"
          ]
        }
      ]
    },
    {
      "cell_type": "markdown",
      "metadata": {
        "id": "pcqxfgT7TuYy"
      },
      "source": [
        "# Generating Submission.csv"
      ]
    },
    {
      "cell_type": "code",
      "metadata": {
        "colab": {
          "base_uri": "https://localhost:8080/"
        },
        "id": "5S3twrlp4jBb",
        "outputId": "21e21aa8-171d-4ec3-8ff5-3a8ef6e6ea01"
      },
      "source": [
        "gc.collect()"
      ],
      "execution_count": null,
      "outputs": [
        {
          "output_type": "execute_result",
          "data": {
            "text/plain": [
              "111306"
            ]
          },
          "metadata": {},
          "execution_count": 20
        }
      ]
    },
    {
      "cell_type": "code",
      "metadata": {
        "id": "gUr747lN12Ys",
        "colab": {
          "base_uri": "https://localhost:8080/"
        },
        "outputId": "b20072ea-7b79-423e-a7d3-c15386a57ff9"
      },
      "source": [
        "s = time.time()\n",
        "\n",
        "test_vid_names = []\n",
        "test_vid_label = []\n",
        "\n",
        "test_csv = open('/content/drive/MyDrive/NNFL_Assignment_2/test.csv')\n",
        "reader = csv.DictReader(test_csv)\n",
        "\n",
        "for row in reader:\n",
        "  test_vid_names.append(row['File'])\n",
        "    \n",
        "test_csv.close()\n",
        "test_vid_label = np.array(test_vid_label)\n",
        "e = time.time()\n",
        "print(e-s)\n",
        "gc.collect()"
      ],
      "execution_count": null,
      "outputs": [
        {
          "output_type": "stream",
          "name": "stdout",
          "text": [
            "0.48032474517822266\n"
          ]
        },
        {
          "output_type": "execute_result",
          "data": {
            "text/plain": [
              "131"
            ]
          },
          "metadata": {},
          "execution_count": 21
        }
      ]
    },
    {
      "cell_type": "code",
      "metadata": {
        "id": "jK9O666013Nz",
        "colab": {
          "base_uri": "https://localhost:8080/",
          "height": 101,
          "referenced_widgets": [
            "24a133838e024057992ecd3d45e9574c",
            "ac2ea035be6d4350839d7be74f647bf4",
            "3c5072d8b35c4f0cae7724ecbdebfb5c",
            "0f3a30064a8a49959b8e3025588cfa18",
            "ee7261d36ddd493ca8e90984e19e358f",
            "9eb2a3f712304bb4b90148e535ef21da",
            "e4aae8095b1e4e6a86ba1b03e9c3a48e",
            "48428f6af61b40778db6857abc353866",
            "7ae0faefc6f549158d7fcec0940b83f4",
            "ade4b3183cac412898f03436b8e07f60",
            "87dbf020ee1f4cb9bdbf19279a4f1032"
          ]
        },
        "outputId": "138e8dc2-4016-438f-cde9-31afd2531e44"
      },
      "source": [
        "frames_t = np.zeros((len(test_vid_names), max_frames, frame_size[0], frame_size[1], 3), dtype=np.float32)\n",
        "frame_count_t = []\n",
        "test_folder = '/content/drive/MyDrive/NNFL_Assignment_2/test/'\n",
        "\n",
        "print(sys.getsizeof(frames))\n",
        "gc.collect()\n",
        "\n",
        "s = time.time()\n",
        "\n",
        "for i in tqdm(range(len(test_vid_names))):\n",
        "    \n",
        "    vid = cv2.VideoCapture(test_folder+test_vid_names[i])\n",
        "    \n",
        "    \n",
        "    # Load full video in temp\n",
        "    temp = [] \n",
        "    ret, frame = vid.read()\n",
        "    while ret:\n",
        "        temp.append(cv2.resize(frame,frame_size))\n",
        "        ret, frame = vid.read()\n",
        "     \n",
        "    length = len(temp)\n",
        "    \n",
        "    if length < max_frames:\n",
        "        \n",
        "        pads_required = max_frames % length\n",
        "        each_frame_multiplicity = max_frames // length\n",
        "        for _ in range(len(temp)):\n",
        "            for __ in range(each_frame_multiplicity):\n",
        "                frames_t[i][pads_required + _*each_frame_multiplicity + __] = temp[_]\n",
        "    else:\n",
        "        \n",
        "        jump = length / max_frames\n",
        "        for _ in range(max_frames):\n",
        "            frames_t[i][_] = temp[int(_*jump)]\n",
        "    frame_count_t.append(frames[i].shape)\n",
        "    gc.collect()\n",
        "\n",
        "e = time.time()\n",
        "print(e-s)\n",
        "\n",
        "gc.collect()"
      ],
      "execution_count": null,
      "outputs": [
        {
          "output_type": "stream",
          "name": "stdout",
          "text": [
            "2831155360\n"
          ]
        },
        {
          "output_type": "display_data",
          "data": {
            "application/vnd.jupyter.widget-view+json": {
              "model_id": "24a133838e024057992ecd3d45e9574c",
              "version_minor": 0,
              "version_major": 2
            },
            "text/plain": [
              "  0%|          | 0/20 [00:00<?, ?it/s]"
            ]
          },
          "metadata": {}
        },
        {
          "output_type": "stream",
          "name": "stdout",
          "text": [
            "32.74474287033081\n"
          ]
        },
        {
          "output_type": "execute_result",
          "data": {
            "text/plain": [
              "0"
            ]
          },
          "metadata": {},
          "execution_count": 22
        }
      ]
    },
    {
      "cell_type": "code",
      "metadata": {
        "colab": {
          "base_uri": "https://localhost:8080/",
          "height": 285
        },
        "id": "UxK-c9VcPQnV",
        "outputId": "6100eca7-b0c9-4e11-c1e2-ef047f29c85a"
      },
      "source": [
        "x = np.array(frames_t[0][119], dtype=np.int)\n",
        "plt.imshow(x)"
      ],
      "execution_count": null,
      "outputs": [
        {
          "output_type": "execute_result",
          "data": {
            "text/plain": [
              "<matplotlib.image.AxesImage at 0x7f7d5dbf2150>"
            ]
          },
          "metadata": {},
          "execution_count": 115
        },
        {
          "output_type": "display_data",
          "data": {
            "image/png": "[encoded data removed]",
            "text/plain": [
              "<Figure size 432x288 with 1 Axes>"
            ]
          },
          "metadata": {
            "needs_background": "light"
          }
        }
      ]
    },
    {
      "cell_type": "code",
      "metadata": {
        "id": "uNPl0nySTaHS",
        "colab": {
          "base_uri": "https://localhost:8080/",
          "height": 1000
        },
        "outputId": "9c8bbe3d-9efb-4fbe-f2a2-0e116a857bc6"
      },
      "source": [
        "s = time.time()\n",
        "output = model.predict(frames_t)\n",
        "e = time.time()\n",
        "print(e-s)\n",
        "\n",
        "test_vid_label = []\n",
        "for i in output:\n",
        "    test_vid_label.append('fire' if i[0]>0.5 else 'not_fire')"
      ],
      "execution_count": null,
      "outputs": [
        {
          "output_type": "error",
          "ename": "ResourceExhaustedError",
          "evalue": "ignored",
          "traceback": [
            "\u001b[0;31m---------------------------------------------------------------------------\u001b[0m",
            "\u001b[0;31mResourceExhaustedError\u001b[0m                    Traceback (most recent call last)",
            "\u001b[0;32m<ipython-input-23-3dd8d388c0bc>\u001b[0m in \u001b[0;36m<module>\u001b[0;34m()\u001b[0m\n\u001b[1;32m      1\u001b[0m \u001b[0ms\u001b[0m \u001b[0;34m=\u001b[0m \u001b[0mtime\u001b[0m\u001b[0;34m.\u001b[0m\u001b[0mtime\u001b[0m\u001b[0;34m(\u001b[0m\u001b[0;34m)\u001b[0m\u001b[0;34m\u001b[0m\u001b[0;34m\u001b[0m\u001b[0m\n\u001b[0;32m----> 2\u001b[0;31m \u001b[0moutput\u001b[0m \u001b[0;34m=\u001b[0m \u001b[0mmodel\u001b[0m\u001b[0;34m.\u001b[0m\u001b[0mpredict\u001b[0m\u001b[0;34m(\u001b[0m\u001b[0mframes_t\u001b[0m\u001b[0;34m)\u001b[0m\u001b[0;34m\u001b[0m\u001b[0;34m\u001b[0m\u001b[0m\n\u001b[0m\u001b[1;32m      3\u001b[0m \u001b[0me\u001b[0m \u001b[0;34m=\u001b[0m \u001b[0mtime\u001b[0m\u001b[0;34m.\u001b[0m\u001b[0mtime\u001b[0m\u001b[0;34m(\u001b[0m\u001b[0;34m)\u001b[0m\u001b[0;34m\u001b[0m\u001b[0;34m\u001b[0m\u001b[0m\n\u001b[1;32m      4\u001b[0m \u001b[0mprint\u001b[0m\u001b[0;34m(\u001b[0m\u001b[0me\u001b[0m\u001b[0;34m-\u001b[0m\u001b[0ms\u001b[0m\u001b[0;34m)\u001b[0m\u001b[0;34m\u001b[0m\u001b[0;34m\u001b[0m\u001b[0m\n\u001b[1;32m      5\u001b[0m \u001b[0;34m\u001b[0m\u001b[0m\n",
            "\u001b[0;32m/usr/local/lib/python3.7/dist-packages/keras/utils/traceback_utils.py\u001b[0m in \u001b[0;36merror_handler\u001b[0;34m(*args, **kwargs)\u001b[0m\n\u001b[1;32m     65\u001b[0m     \u001b[0;32mexcept\u001b[0m \u001b[0mException\u001b[0m \u001b[0;32mas\u001b[0m \u001b[0me\u001b[0m\u001b[0;34m:\u001b[0m  \u001b[0;31m# pylint: disable=broad-except\u001b[0m\u001b[0;34m\u001b[0m\u001b[0;34m\u001b[0m\u001b[0m\n\u001b[1;32m     66\u001b[0m       \u001b[0mfiltered_tb\u001b[0m \u001b[0;34m=\u001b[0m \u001b[0m_process_traceback_frames\u001b[0m\u001b[0;34m(\u001b[0m\u001b[0me\u001b[0m\u001b[0;34m.\u001b[0m\u001b[0m__traceback__\u001b[0m\u001b[0;34m)\u001b[0m\u001b[0;34m\u001b[0m\u001b[0;34m\u001b[0m\u001b[0m\n\u001b[0;32m---> 67\u001b[0;31m       \u001b[0;32mraise\u001b[0m \u001b[0me\u001b[0m\u001b[0;34m.\u001b[0m\u001b[0mwith_traceback\u001b[0m\u001b[0;34m(\u001b[0m\u001b[0mfiltered_tb\u001b[0m\u001b[0;34m)\u001b[0m \u001b[0;32mfrom\u001b[0m \u001b[0;32mNone\u001b[0m\u001b[0;34m\u001b[0m\u001b[0;34m\u001b[0m\u001b[0m\n\u001b[0m\u001b[1;32m     68\u001b[0m     \u001b[0;32mfinally\u001b[0m\u001b[0;34m:\u001b[0m\u001b[0;34m\u001b[0m\u001b[0;34m\u001b[0m\u001b[0m\n\u001b[1;32m     69\u001b[0m       \u001b[0;32mdel\u001b[0m \u001b[0mfiltered_tb\u001b[0m\u001b[0;34m\u001b[0m\u001b[0;34m\u001b[0m\u001b[0m\n",
            "\u001b[0;32m/usr/local/lib/python3.7/dist-packages/tensorflow/python/eager/execute.py\u001b[0m in \u001b[0;36mquick_execute\u001b[0;34m(op_name, num_outputs, inputs, attrs, ctx, name)\u001b[0m\n\u001b[1;32m     57\u001b[0m     \u001b[0mctx\u001b[0m\u001b[0;34m.\u001b[0m\u001b[0mensure_initialized\u001b[0m\u001b[0;34m(\u001b[0m\u001b[0;34m)\u001b[0m\u001b[0;34m\u001b[0m\u001b[0;34m\u001b[0m\u001b[0m\n\u001b[1;32m     58\u001b[0m     tensors = pywrap_tfe.TFE_Py_Execute(ctx._handle, device_name, op_name,\n\u001b[0;32m---> 59\u001b[0;31m                                         inputs, attrs, num_outputs)\n\u001b[0m\u001b[1;32m     60\u001b[0m   \u001b[0;32mexcept\u001b[0m \u001b[0mcore\u001b[0m\u001b[0;34m.\u001b[0m\u001b[0m_NotOkStatusException\u001b[0m \u001b[0;32mas\u001b[0m \u001b[0me\u001b[0m\u001b[0;34m:\u001b[0m\u001b[0;34m\u001b[0m\u001b[0;34m\u001b[0m\u001b[0m\n\u001b[1;32m     61\u001b[0m     \u001b[0;32mif\u001b[0m \u001b[0mname\u001b[0m \u001b[0;32mis\u001b[0m \u001b[0;32mnot\u001b[0m \u001b[0;32mNone\u001b[0m\u001b[0;34m:\u001b[0m\u001b[0;34m\u001b[0m\u001b[0;34m\u001b[0m\u001b[0m\n",
            "\u001b[0;31mResourceExhaustedError\u001b[0m:  OOM when allocating tensor with shape[2400,50,122,122] and type float on /job:localhost/replica:0/task:0/device:GPU:0 by allocator GPU_0_bfc\n\t [[node sequential/time_distributed_2/conv2d_2/Relu\n (defined at /usr/local/lib/python3.7/dist-packages/keras/backend.py:4867)\n]]\nHint: If you want to see a list of allocated tensors when OOM happens, add report_tensor_allocations_upon_oom to RunOptions for current allocation info. This isn't available when running in Eager mode.\n [Op:__inference_predict_function_33785]\n\nErrors may have originated from an input operation.\nInput Source operations connected to node sequential/time_distributed_2/conv2d_2/Relu:\nIn[0] sequential/time_distributed_2/conv2d_2/BiasAdd (defined at /usr/local/lib/python3.7/dist-packages/keras/layers/convolutional.py:265)\n\nOperation defined at: (most recent call last)\n>>>   File \"/usr/lib/python3.7/runpy.py\", line 193, in _run_module_as_main\n>>>     \"__main__\", mod_spec)\n>>> \n>>>   File \"/usr/lib/python3.7/runpy.py\", line 85, in _run_code\n>>>     exec(code, run_globals)\n>>> \n>>>   File \"/usr/local/lib/python3.7/dist-packages/ipykernel_launcher.py\", line 16, in <module>\n>>>     app.launch_new_instance()\n>>> \n>>>   File \"/usr/local/lib/python3.7/dist-packages/traitlets/config/application.py\", line 846, in launch_instance\n>>>     app.start()\n>>> \n>>>   File \"/usr/local/lib/python3.7/dist-packages/ipykernel/kernelapp.py\", line 499, in start\n>>>     self.io_loop.start()\n>>> \n>>>   File \"/usr/local/lib/python3.7/dist-packages/tornado/platform/asyncio.py\", line 132, in start\n>>>     self.asyncio_loop.run_forever()\n>>> \n>>>   File \"/usr/lib/python3.7/asyncio/base_events.py\", line 541, in run_forever\n>>>     self._run_once()\n>>> \n>>>   File \"/usr/lib/python3.7/asyncio/base_events.py\", line 1786, in _run_once\n>>>     handle._run()\n>>> \n>>>   File \"/usr/lib/python3.7/asyncio/events.py\", line 88, in _run\n>>>     self._context.run(self._callback, *self._args)\n>>> \n>>>   File \"/usr/local/lib/python3.7/dist-packages/tornado/ioloop.py\", line 758, in _run_callback\n>>>     ret = callback()\n>>> \n>>>   File \"/usr/local/lib/python3.7/dist-packages/tornado/stack_context.py\", line 300, in null_wrapper\n>>>     return fn(*args, **kwargs)\n>>> \n>>>   File \"/usr/local/lib/python3.7/dist-packages/zmq/eventloop/zmqstream.py\", line 536, in <lambda>\n>>>     self.io_loop.add_callback(lambda: self._handle_events(self.socket, 0))\n>>> \n>>>   File \"/usr/local/lib/python3.7/dist-packages/zmq/eventloop/zmqstream.py\", line 452, in _handle_events\n>>>     self._handle_recv()\n>>> \n>>>   File \"/usr/local/lib/python3.7/dist-packages/zmq/eventloop/zmqstream.py\", line 481, in _handle_recv\n>>>     self._run_callback(callback, msg)\n>>> \n>>>   File \"/usr/local/lib/python3.7/dist-packages/zmq/eventloop/zmqstream.py\", line 431, in _run_callback\n>>>     callback(*args, **kwargs)\n>>> \n>>>   File \"/usr/local/lib/python3.7/dist-packages/tornado/stack_context.py\", line 300, in null_wrapper\n>>>     return fn(*args, **kwargs)\n>>> \n>>>   File \"/usr/local/lib/python3.7/dist-packages/ipykernel/kernelbase.py\", line 283, in dispatcher\n>>>     return self.dispatch_shell(stream, msg)\n>>> \n>>>   File \"/usr/local/lib/python3.7/dist-packages/ipykernel/kernelbase.py\", line 233, in dispatch_shell\n>>>     handler(stream, idents, msg)\n>>> \n>>>   File \"/usr/local/lib/python3.7/dist-packages/ipykernel/kernelbase.py\", line 399, in execute_request\n>>>     user_expressions, allow_stdin)\n>>> \n>>>   File \"/usr/local/lib/python3.7/dist-packages/ipykernel/ipkernel.py\", line 208, in do_execute\n>>>     res = shell.run_cell(code, store_history=store_history, silent=silent)\n>>> \n>>>   File \"/usr/local/lib/python3.7/dist-packages/ipykernel/zmqshell.py\", line 537, in run_cell\n>>>     return super(ZMQInteractiveShell, self).run_cell(*args, **kwargs)\n>>> \n>>>   File \"/usr/local/lib/python3.7/dist-packages/IPython/core/interactiveshell.py\", line 2718, in run_cell\n>>>     interactivity=interactivity, compiler=compiler, result=result)\n>>> \n>>>   File \"/usr/local/lib/python3.7/dist-packages/IPython/core/interactiveshell.py\", line 2822, in run_ast_nodes\n>>>     if self.run_code(code, result):\n>>> \n>>>   File \"/usr/local/lib/python3.7/dist-packages/IPython/core/interactiveshell.py\", line 2882, in run_code\n>>>     exec(code_obj, self.user_global_ns, self.user_ns)\n>>> \n>>>   File \"<ipython-input-23-3dd8d388c0bc>\", line 2, in <module>\n>>>     output = model.predict(frames_t)\n>>> \n>>>   File \"/usr/local/lib/python3.7/dist-packages/keras/utils/traceback_utils.py\", line 64, in error_handler\n>>>     return fn(*args, **kwargs)\n>>> \n>>>   File \"/usr/local/lib/python3.7/dist-packages/keras/engine/training.py\", line 1789, in predict\n>>>     tmp_batch_outputs = self.predict_function(iterator)\n>>> \n>>>   File \"/usr/local/lib/python3.7/dist-packages/keras/engine/training.py\", line 1621, in predict_function\n>>>     return step_function(self, iterator)\n>>> \n>>>   File \"/usr/local/lib/python3.7/dist-packages/keras/engine/training.py\", line 1611, in step_function\n>>>     outputs = model.distribute_strategy.run(run_step, args=(data,))\n>>> \n>>>   File \"/usr/local/lib/python3.7/dist-packages/keras/engine/training.py\", line 1604, in run_step\n>>>     outputs = model.predict_step(data)\n>>> \n>>>   File \"/usr/local/lib/python3.7/dist-packages/keras/engine/training.py\", line 1572, in predict_step\n>>>     return self(x, training=False)\n>>> \n>>>   File \"/usr/local/lib/python3.7/dist-packages/keras/utils/traceback_utils.py\", line 64, in error_handler\n>>>     return fn(*args, **kwargs)\n>>> \n>>>   File \"/usr/local/lib/python3.7/dist-packages/keras/engine/base_layer.py\", line 1083, in __call__\n>>>     outputs = call_fn(inputs, *args, **kwargs)\n>>> \n>>>   File \"/usr/local/lib/python3.7/dist-packages/keras/utils/traceback_utils.py\", line 92, in error_handler\n>>>     return fn(*args, **kwargs)\n>>> \n>>>   File \"/usr/local/lib/python3.7/dist-packages/keras/engine/sequential.py\", line 373, in call\n>>>     return super(Sequential, self).call(inputs, training=training, mask=mask)\n>>> \n>>>   File \"/usr/local/lib/python3.7/dist-packages/keras/engine/functional.py\", line 452, in call\n>>>     inputs, training=training, mask=mask)\n>>> \n>>>   File \"/usr/local/lib/python3.7/dist-packages/keras/engine/functional.py\", line 589, in _run_internal_graph\n>>>     outputs = node.layer(*args, **kwargs)\n>>> \n>>>   File \"/usr/local/lib/python3.7/dist-packages/keras/utils/traceback_utils.py\", line 64, in error_handler\n>>>     return fn(*args, **kwargs)\n>>> \n>>>   File \"/usr/local/lib/python3.7/dist-packages/keras/engine/base_layer.py\", line 1083, in __call__\n>>>     outputs = call_fn(inputs, *args, **kwargs)\n>>> \n>>>   File \"/usr/local/lib/python3.7/dist-packages/keras/utils/traceback_utils.py\", line 92, in error_handler\n>>>     return fn(*args, **kwargs)\n>>> \n>>>   File \"/usr/local/lib/python3.7/dist-packages/keras/layers/wrappers.py\", line 267, in call\n>>>     y = self.layer(inputs, **kwargs)\n>>> \n>>>   File \"/usr/local/lib/python3.7/dist-packages/keras/utils/traceback_utils.py\", line 64, in error_handler\n>>>     return fn(*args, **kwargs)\n>>> \n>>>   File \"/usr/local/lib/python3.7/dist-packages/keras/engine/base_layer.py\", line 1083, in __call__\n>>>     outputs = call_fn(inputs, *args, **kwargs)\n>>> \n>>>   File \"/usr/local/lib/python3.7/dist-packages/keras/utils/traceback_utils.py\", line 92, in error_handler\n>>>     return fn(*args, **kwargs)\n>>> \n>>>   File \"/usr/local/lib/python3.7/dist-packages/keras/layers/convolutional.py\", line 273, in call\n>>>     return self.activation(outputs)\n>>> \n>>>   File \"/usr/local/lib/python3.7/dist-packages/keras/activations.py\", line 311, in relu\n>>>     return backend.relu(x, alpha=alpha, max_value=max_value, threshold=threshold)\n>>> \n>>>   File \"/usr/local/lib/python3.7/dist-packages/keras/backend.py\", line 4867, in relu\n>>>     x = tf.nn.relu(x)\n>>> "
          ]
        }
      ]
    },
    {
      "cell_type": "code",
      "metadata": {
        "id": "mmwXO3LcTa5Q"
      },
      "source": [
        "!touch Submission.csv\n",
        "\n",
        "open('Submission.csv', 'w').close()\n",
        "\n",
        "output = open('Submission.csv', 'w')\n",
        "\n",
        "header = ['File', 'Label']\n",
        "writer = csv.writer(output)\n",
        "writer.writerow(header)\n",
        "\n",
        "for i in range(len(test_vid_names)):\n",
        "    writer.writerow([test_vid_names[i],test_vid_label[i]])\n",
        "\n",
        "output.close()"
      ],
      "execution_count": null,
      "outputs": []
    },
    {
      "cell_type": "code",
      "metadata": {
        "id": "sEWqFqdk3ePC"
      },
      "source": [
        ""
      ],
      "execution_count": null,
      "outputs": []
    }
  ]
}