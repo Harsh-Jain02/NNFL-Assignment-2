{
  "nbformat": 4,
  "nbformat_minor": 0,
  "metadata": {
    "accelerator": "GPU",
    "colab": {
      "name": "Trial NNFL_Assignment_2_(Nov30).ipynb",
      "provenance": [],
      "collapsed_sections": [
        "y3qOESkhRQXF"
      ]
    },
    "kernelspec": {
      "display_name": "Python 3",
      "name": "python3"
    },
    "language_info": {
      "name": "python"
    },
    "widgets": {
      "application/vnd.jupyter.widget-state+json": {
        "74a1b86b11ad439da4d64af73e78fe18": {
          "model_module": "@jupyter-widgets/controls",
          "model_name": "HBoxModel",
          "model_module_version": "1.5.0",
          "state": {
            "_dom_classes": [],
            "_model_module": "@jupyter-widgets/controls",
            "_model_module_version": "1.5.0",
            "_model_name": "HBoxModel",
            "_view_count": null,
            "_view_module": "@jupyter-widgets/controls",
            "_view_module_version": "1.5.0",
            "_view_name": "HBoxView",
            "box_style": "",
            "children": [
              "IPY_MODEL_535b71355caf432baefbf805679835e3",
              "IPY_MODEL_d109fe1daae9494389af8dff178b38d5",
              "IPY_MODEL_279994bcc3114a789251fe71b9a4cee7"
            ],
            "layout": "IPY_MODEL_ceece78a6d864c49a499b7a05b03e805"
          }
        },
        "535b71355caf432baefbf805679835e3": {
          "model_module": "@jupyter-widgets/controls",
          "model_name": "HTMLModel",
          "model_module_version": "1.5.0",
          "state": {
            "_dom_classes": [],
            "_model_module": "@jupyter-widgets/controls",
            "_model_module_version": "1.5.0",
            "_model_name": "HTMLModel",
            "_view_count": null,
            "_view_module": "@jupyter-widgets/controls",
            "_view_module_version": "1.5.0",
            "_view_name": "HTMLView",
            "description": "",
            "description_tooltip": null,
            "layout": "IPY_MODEL_63d91b5725e04420b900487b41d995fa",
            "placeholder": "​",
            "style": "IPY_MODEL_70a439f7e3414dc2a99b38ac57f46ceb",
            "value": "100%"
          }
        },
        "d109fe1daae9494389af8dff178b38d5": {
          "model_module": "@jupyter-widgets/controls",
          "model_name": "FloatProgressModel",
          "model_module_version": "1.5.0",
          "state": {
            "_dom_classes": [],
            "_model_module": "@jupyter-widgets/controls",
            "_model_module_version": "1.5.0",
            "_model_name": "FloatProgressModel",
            "_view_count": null,
            "_view_module": "@jupyter-widgets/controls",
            "_view_module_version": "1.5.0",
            "_view_name": "ProgressView",
            "bar_style": "success",
            "description": "",
            "description_tooltip": null,
            "layout": "IPY_MODEL_f77dd7810f8c4c938adbe42ea94778e0",
            "max": 20,
            "min": 0,
            "orientation": "horizontal",
            "style": "IPY_MODEL_3cfa59e5c01244e1823b4596d7fafd5b",
            "value": 20
          }
        },
        "279994bcc3114a789251fe71b9a4cee7": {
          "model_module": "@jupyter-widgets/controls",
          "model_name": "HTMLModel",
          "model_module_version": "1.5.0",
          "state": {
            "_dom_classes": [],
            "_model_module": "@jupyter-widgets/controls",
            "_model_module_version": "1.5.0",
            "_model_name": "HTMLModel",
            "_view_count": null,
            "_view_module": "@jupyter-widgets/controls",
            "_view_module_version": "1.5.0",
            "_view_name": "HTMLView",
            "description": "",
            "description_tooltip": null,
            "layout": "IPY_MODEL_86bf56e8d3494a3fb72e6dfaf3503755",
            "placeholder": "​",
            "style": "IPY_MODEL_0dda77fba6e5472a8cdd003eaef8931a",
            "value": " 20/20 [00:14&lt;00:00,  2.22it/s]"
          }
        },
        "ceece78a6d864c49a499b7a05b03e805": {
          "model_module": "@jupyter-widgets/base",
          "model_name": "LayoutModel",
          "model_module_version": "1.2.0",
          "state": {
            "_model_module": "@jupyter-widgets/base",
            "_model_module_version": "1.2.0",
            "_model_name": "LayoutModel",
            "_view_count": null,
            "_view_module": "@jupyter-widgets/base",
            "_view_module_version": "1.2.0",
            "_view_name": "LayoutView",
            "align_content": null,
            "align_items": null,
            "align_self": null,
            "border": null,
            "bottom": null,
            "display": null,
            "flex": null,
            "flex_flow": null,
            "grid_area": null,
            "grid_auto_columns": null,
            "grid_auto_flow": null,
            "grid_auto_rows": null,
            "grid_column": null,
            "grid_gap": null,
            "grid_row": null,
            "grid_template_areas": null,
            "grid_template_columns": null,
            "grid_template_rows": null,
            "height": null,
            "justify_content": null,
            "justify_items": null,
            "left": null,
            "margin": null,
            "max_height": null,
            "max_width": null,
            "min_height": null,
            "min_width": null,
            "object_fit": null,
            "object_position": null,
            "order": null,
            "overflow": null,
            "overflow_x": null,
            "overflow_y": null,
            "padding": null,
            "right": null,
            "top": null,
            "visibility": null,
            "width": null
          }
        },
        "63d91b5725e04420b900487b41d995fa": {
          "model_module": "@jupyter-widgets/base",
          "model_name": "LayoutModel",
          "model_module_version": "1.2.0",
          "state": {
            "_model_module": "@jupyter-widgets/base",
            "_model_module_version": "1.2.0",
            "_model_name": "LayoutModel",
            "_view_count": null,
            "_view_module": "@jupyter-widgets/base",
            "_view_module_version": "1.2.0",
            "_view_name": "LayoutView",
            "align_content": null,
            "align_items": null,
            "align_self": null,
            "border": null,
            "bottom": null,
            "display": null,
            "flex": null,
            "flex_flow": null,
            "grid_area": null,
            "grid_auto_columns": null,
            "grid_auto_flow": null,
            "grid_auto_rows": null,
            "grid_column": null,
            "grid_gap": null,
            "grid_row": null,
            "grid_template_areas": null,
            "grid_template_columns": null,
            "grid_template_rows": null,
            "height": null,
            "justify_content": null,
            "justify_items": null,
            "left": null,
            "margin": null,
            "max_height": null,
            "max_width": null,
            "min_height": null,
            "min_width": null,
            "object_fit": null,
            "object_position": null,
            "order": null,
            "overflow": null,
            "overflow_x": null,
            "overflow_y": null,
            "padding": null,
            "right": null,
            "top": null,
            "visibility": null,
            "width": null
          }
        },
        "70a439f7e3414dc2a99b38ac57f46ceb": {
          "model_module": "@jupyter-widgets/controls",
          "model_name": "DescriptionStyleModel",
          "model_module_version": "1.5.0",
          "state": {
            "_model_module": "@jupyter-widgets/controls",
            "_model_module_version": "1.5.0",
            "_model_name": "DescriptionStyleModel",
            "_view_count": null,
            "_view_module": "@jupyter-widgets/base",
            "_view_module_version": "1.2.0",
            "_view_name": "StyleView",
            "description_width": ""
          }
        },
        "f77dd7810f8c4c938adbe42ea94778e0": {
          "model_module": "@jupyter-widgets/base",
          "model_name": "LayoutModel",
          "model_module_version": "1.2.0",
          "state": {
            "_model_module": "@jupyter-widgets/base",
            "_model_module_version": "1.2.0",
            "_model_name": "LayoutModel",
            "_view_count": null,
            "_view_module": "@jupyter-widgets/base",
            "_view_module_version": "1.2.0",
            "_view_name": "LayoutView",
            "align_content": null,
            "align_items": null,
            "align_self": null,
            "border": null,
            "bottom": null,
            "display": null,
            "flex": null,
            "flex_flow": null,
            "grid_area": null,
            "grid_auto_columns": null,
            "grid_auto_flow": null,
            "grid_auto_rows": null,
            "grid_column": null,
            "grid_gap": null,
            "grid_row": null,
            "grid_template_areas": null,
            "grid_template_columns": null,
            "grid_template_rows": null,
            "height": null,
            "justify_content": null,
            "justify_items": null,
            "left": null,
            "margin": null,
            "max_height": null,
            "max_width": null,
            "min_height": null,
            "min_width": null,
            "object_fit": null,
            "object_position": null,
            "order": null,
            "overflow": null,
            "overflow_x": null,
            "overflow_y": null,
            "padding": null,
            "right": null,
            "top": null,
            "visibility": null,
            "width": null
          }
        },
        "3cfa59e5c01244e1823b4596d7fafd5b": {
          "model_module": "@jupyter-widgets/controls",
          "model_name": "ProgressStyleModel",
          "model_module_version": "1.5.0",
          "state": {
            "_model_module": "@jupyter-widgets/controls",
            "_model_module_version": "1.5.0",
            "_model_name": "ProgressStyleModel",
            "_view_count": null,
            "_view_module": "@jupyter-widgets/base",
            "_view_module_version": "1.2.0",
            "_view_name": "StyleView",
            "bar_color": null,
            "description_width": ""
          }
        },
        "86bf56e8d3494a3fb72e6dfaf3503755": {
          "model_module": "@jupyter-widgets/base",
          "model_name": "LayoutModel",
          "model_module_version": "1.2.0",
          "state": {
            "_model_module": "@jupyter-widgets/base",
            "_model_module_version": "1.2.0",
            "_model_name": "LayoutModel",
            "_view_count": null,
            "_view_module": "@jupyter-widgets/base",
            "_view_module_version": "1.2.0",
            "_view_name": "LayoutView",
            "align_content": null,
            "align_items": null,
            "align_self": null,
            "border": null,
            "bottom": null,
            "display": null,
            "flex": null,
            "flex_flow": null,
            "grid_area": null,
            "grid_auto_columns": null,
            "grid_auto_flow": null,
            "grid_auto_rows": null,
            "grid_column": null,
            "grid_gap": null,
            "grid_row": null,
            "grid_template_areas": null,
            "grid_template_columns": null,
            "grid_template_rows": null,
            "height": null,
            "justify_content": null,
            "justify_items": null,
            "left": null,
            "margin": null,
            "max_height": null,
            "max_width": null,
            "min_height": null,
            "min_width": null,
            "object_fit": null,
            "object_position": null,
            "order": null,
            "overflow": null,
            "overflow_x": null,
            "overflow_y": null,
            "padding": null,
            "right": null,
            "top": null,
            "visibility": null,
            "width": null
          }
        },
        "0dda77fba6e5472a8cdd003eaef8931a": {
          "model_module": "@jupyter-widgets/controls",
          "model_name": "DescriptionStyleModel",
          "model_module_version": "1.5.0",
          "state": {
            "_model_module": "@jupyter-widgets/controls",
            "_model_module_version": "1.5.0",
            "_model_name": "DescriptionStyleModel",
            "_view_count": null,
            "_view_module": "@jupyter-widgets/base",
            "_view_module_version": "1.2.0",
            "_view_name": "StyleView",
            "description_width": ""
          }
        }
      }
    }
  },
  "cells": [
    {
      "cell_type": "code",
      "metadata": {
        "colab": {
          "base_uri": "https://localhost:8080/"
        },
        "id": "gqrvkcoGXlyq",
        "outputId": "21289e20-dd4d-4b72-cc4b-aaabfa000bc3"
      },
      "source": [
        "from google.colab import drive\n",
        "drive.mount('/content/drive')"
      ],
      "execution_count": null,
      "outputs": [
        {
          "name": "stdout",
          "output_type": "stream",
          "text": [
            "Mounted at /content/drive\n"
          ]
        }
      ]
    },
    {
      "cell_type": "code",
      "metadata": {
        "id": "MQJzRNMqW6dY"
      },
      "source": [
        "import csv\n",
        "import time\n",
        "import gc\n",
        "import numpy as np\n",
        "import cv2\n",
        "import sys\n",
        "import matplotlib.pyplot as plt\n",
        "from tqdm.auto import tqdm"
      ],
      "execution_count": null,
      "outputs": []
    },
    {
      "cell_type": "markdown",
      "metadata": {
        "id": "23AI5jpKl1E-"
      },
      "source": [
        "# Loading Data"
      ]
    },
    {
      "cell_type": "code",
      "metadata": {
        "colab": {
          "base_uri": "https://localhost:8080/"
        },
        "id": "A5cdeD3p4fYk",
        "outputId": "6129f28f-e7a6-42a7-986c-1f9ff4bd63da"
      },
      "source": [
        "s = time.time()\n",
        "\n",
        "train_vid_names = []\n",
        "train_vid_label = []\n",
        "\n",
        "train_csv = open('/content/drive/MyDrive/assign2/train.csv')\n",
        "reader = csv.DictReader(train_csv)\n",
        "\n",
        "for row in reader:\n",
        "    train_vid_names.append(row['File'])\n",
        "    train_vid_label.append([1,0] if row['True_Label']=='fire' else [0,1])\n",
        "    \n",
        "train_csv.close()\n",
        "train_vid_label = np.array(train_vid_label)\n",
        "\n",
        "e = time.time()\n",
        "print(e-s)\n",
        "gc.collect()"
      ],
      "execution_count": null,
      "outputs": [
        {
          "name": "stdout",
          "output_type": "stream",
          "text": [
            "0.254680871963501\n"
          ]
        },
        {
          "data": {
            "text/plain": [
              "185"
            ]
          },
          "execution_count": 5,
          "metadata": {},
          "output_type": "execute_result"
        }
      ]
    },
    {
      "cell_type": "code",
      "metadata": {
        "colab": {
          "background_save": true,
          "base_uri": "https://localhost:8080/",
          "height": 66,
          "referenced_widgets": [
            "87de5561059345e2a437ca4b2f33738b"
          ]
        },
        "id": "ox9L5rVsXNCA",
        "outputId": "69607f7e-be1c-4730-ae71-e9596425ddd7"
      },
      "source": [
        "max_frames = 100\n",
        "frame_size = (128, 128)\n",
        "\n",
        "frames = np.zeros((len(train_vid_names), max_frames, frame_size[0], frame_size[1], 3), dtype=np.float32)\n",
        "frame_count = []\n",
        "train_folder = '/content/drive/MyDrive/assign2/train/'\n",
        "\n",
        "print(sys.getsizeof(frames))\n",
        "\n",
        "s = time.time()\n",
        "\n",
        "for i in tqdm(range(len(train_vid_names))):\n",
        "    \n",
        "    vid = cv2.VideoCapture(train_folder+train_vid_names[i])\n",
        "    \n",
        "    # Load full video in temp\n",
        "    temp = [] \n",
        "    ret, frame = vid.read()\n",
        "    while ret:\n",
        "        temp.append(cv2.resize(frame,frame_size))\n",
        "        ret, frame = vid.read()\n",
        "     \n",
        "    length = len(temp)\n",
        "    if length < max_frames:\n",
        "        pads_required = max_frames % length\n",
        "        each_frame_multiplicity = max_frames // length\n",
        "        for _ in range(len(temp)):\n",
        "            for __ in range(each_frame_multiplicity):\n",
        "                frames[i][pads_required + _*each_frame_multiplicity + __] = temp[_]\n",
        "    else:\n",
        "        jump = length / max_frames\n",
        "        for _ in range(max_frames):\n",
        "            frames[i][_] = temp[int(_*jump)]\n",
        "\n",
        "    frame_count.append(frames[i].shape)\n",
        "\n",
        "e = time.time()\n",
        "print(e-s)\n",
        "gc.collect()"
      ],
      "execution_count": null,
      "outputs": [
        {
          "name": "stdout",
          "output_type": "stream",
          "text": [
            "2359296160\n"
          ]
        },
        {
          "data": {
            "application/vnd.jupyter.widget-view+json": {
              "model_id": "87de5561059345e2a437ca4b2f33738b",
              "version_major": 2,
              "version_minor": 0
            },
            "text/plain": [
              "  0%|          | 0/120 [00:00<?, ?it/s]"
            ]
          },
          "metadata": {},
          "output_type": "display_data"
        },
        {
          "name": "stdout",
          "output_type": "stream",
          "text": [
            "251.8428087234497\n"
          ]
        },
        {
          "data": {
            "text/plain": [
              "19"
            ]
          },
          "execution_count": null,
          "metadata": {},
          "output_type": "execute_result"
        }
      ]
    },
    {
      "cell_type": "markdown",
      "metadata": {
        "id": "y3qOESkhRQXF"
      },
      "source": [
        "# Normalization"
      ]
    },
    {
      "cell_type": "code",
      "metadata": {
        "id": "xUMFdvUI0McB"
      },
      "source": [
        "# means = []\n",
        "# stds = []\n",
        "# for i in range(3):\n",
        "#   means.append(np.mean(frames[:,:,:,:,i]))\n",
        "#   stds.append(np.std(frames[:, :, :, :, i]))"
      ],
      "execution_count": null,
      "outputs": []
    },
    {
      "cell_type": "code",
      "metadata": {
        "id": "gZdo0zjIFvms"
      },
      "source": [
        "# means = np.asarray(means).reshape(1, 1, 1, 1, -1)\n",
        "# means.shape"
      ],
      "execution_count": null,
      "outputs": []
    },
    {
      "cell_type": "code",
      "metadata": {
        "id": "1YZxgY_BuRiw"
      },
      "source": [
        "# mean = np.mean(frames, axis=-1).reshape([*frames.shape[:-1], 1])\n",
        "# mean = np.mean(frames, axis=-1).reshape\n",
        "# std = np.std(frames, axis=-1).reshape([*frames.shape[:-1], 1])\n",
        "# \n",
        "# frames = (frames - mean) / (1e-5 + std)"
      ],
      "execution_count": null,
      "outputs": []
    },
    {
      "cell_type": "markdown",
      "metadata": {
        "id": "ROnjeY9tmDf8"
      },
      "source": [
        "# The Model"
      ]
    },
    {
      "cell_type": "code",
      "metadata": {
        "colab": {
          "background_save": true
        },
        "id": "V4mXAhOjXM7w"
      },
      "source": [
        "import tensorflow as tf\n",
        "from tensorflow.keras import layers, Model\n",
        "\n",
        "gpus = tf.config.experimental.list_physical_devices('GPU')\n",
        "for i in gpus:\n",
        "    print(i)\n",
        "    tf.config.experimental.set_memory_growth(i, True)"
      ],
      "execution_count": null,
      "outputs": []
    },
    {
      "cell_type": "code",
      "metadata": {
        "colab": {
          "base_uri": "https://localhost:8080/"
        },
        "id": "3v7w7mKWcpI5",
        "outputId": "846cd5e8-d22c-4e40-d81a-77f1dcd8d984"
      },
      "source": [
        "model = tf.keras.Sequential()\n",
        "\n",
        "model.add(tf.keras.Input(shape = (max_frames, frame_size[0], frame_size[1], 3)))\n",
        "\n",
        "model.add(layers.TimeDistributed(layers.Conv2D(16,(3,3),activation='relu')))\n",
        "model.add(layers.TimeDistributed(layers.MaxPool2D()))\n",
        "\n",
        "model.add(layers.TimeDistributed(layers.Conv2D(32,(3,3),activation='relu')))\n",
        "model.add(layers.TimeDistributed(layers.MaxPool2D()))\n",
        "\n",
        "model.add(layers.TimeDistributed(layers.Reshape((-1,))))\n",
        "\n",
        "model.add(layers.GRU(16, return_sequences=True))\n",
        "model.add(layers.GRU(32, return_sequences=False))\n",
        "\n",
        "model.add(layers.Dense(32, activation='relu'))\n",
        "model.add(layers.Dense(16, activation='relu'))\n",
        "model.add(layers.Dense(2, activation='softmax'))\n",
        "# model.add(layers.Dense(256, activation = 'relu',kernel_regularizer=tf.keras.regularizers.L2(0)))\n",
        "# model.add(layers.Dropout(0.05))\n",
        "# model.add(layers.Dense(128, activation = 'relu', kernel_regularizer=tf.keras.regularizers.L2(0.05)))\n",
        "# model.add(layers.Dropout(0.05))\n",
        "# model.add(layers.Dense(64, activation = 'relu'))\n",
        "# model.add(layers.Dense(2, activation = 'softmax'))\n",
        "\n",
        "model.summary()"
      ],
      "execution_count": null,
      "outputs": [
        {
          "name": "stdout",
          "output_type": "stream",
          "text": [
            "Model: \"sequential_4\"\n",
            "_________________________________________________________________\n",
            " Layer (type)                Output Shape              Param #   \n",
            "=================================================================\n",
            " time_distributed_17 (TimeDi  (None, 100, 126, 126, 16  448      \n",
            " stributed)                  )                                   \n",
            "                                                                 \n",
            " time_distributed_18 (TimeDi  (None, 100, 63, 63, 16)  0         \n",
            " stributed)                                                      \n",
            "                                                                 \n",
            " time_distributed_19 (TimeDi  (None, 100, 61, 61, 32)  4640      \n",
            " stributed)                                                      \n",
            "                                                                 \n",
            " time_distributed_20 (TimeDi  (None, 100, 30, 30, 32)  0         \n",
            " stributed)                                                      \n",
            "                                                                 \n",
            " time_distributed_21 (TimeDi  (None, 100, 28800)       0         \n",
            " stributed)                                                      \n",
            "                                                                 \n",
            " gru (GRU)                   (None, 100, 16)           1383264   \n",
            "                                                                 \n",
            " gru_1 (GRU)                 (None, 32)                4800      \n",
            "                                                                 \n",
            " dense (Dense)               (None, 32)                1056      \n",
            "                                                                 \n",
            " dense_1 (Dense)             (None, 16)                528       \n",
            "                                                                 \n",
            " dense_2 (Dense)             (None, 2)                 34        \n",
            "                                                                 \n",
            "=================================================================\n",
            "Total params: 1,394,770\n",
            "Trainable params: 1,394,770\n",
            "Non-trainable params: 0\n",
            "_________________________________________________________________\n"
          ]
        }
      ]
    },
    {
      "cell_type": "code",
      "metadata": {
        "id": "eB_oQgIJfGPy"
      },
      "source": [
        "lr_schedule = tf.keras.callbacks.LearningRateScheduler( lambda epoch: 1e-8 * 10 ** ( epoch / 10 ) )\n",
        "\n",
        "model.compile(optimizer = tf.keras.optimizers.Adam(learning_rate=0.0001),\n",
        "                loss = 'categorical_crossentropy', metrics = ['accuracy'])\n",
        "\n",
        "history = model.fit(frames, train_vid_label, batch_size = 2, \n",
        "                    epochs = 60, validation_split = 0.2, callbacks=[lr_schedule])"
      ],
      "execution_count": null,
      "outputs": []
    },
    {
      "cell_type": "code",
      "metadata": {
        "colab": {
          "base_uri": "https://localhost:8080/",
          "height": 340
        },
        "id": "TNAAHCUqf8Vi",
        "outputId": "1079847d-9f51-4002-88b4-8c691c5d8a0c"
      },
      "source": [
        "plt.semilogx(history.history[\"lr\"], history.history[\"loss\"])\n",
        "plt.axis([1e-8, 1e-2, 0, 1])\n",
        "gc.collect()"
      ],
      "execution_count": null,
      "outputs": [
        {
          "data": {
            "text/plain": [
              "(1e-08, 0.01, 0.0, 1.0)"
            ]
          },
          "execution_count": 42,
          "metadata": {},
          "output_type": "execute_result"
        },
        {
          "name": "stderr",
          "output_type": "stream",
          "text": [
            "Exception ignored in: 'zmq.backend.cython.message.Frame.__dealloc__'\n",
            "Traceback (most recent call last):\n",
            "  File \"zmq/backend/cython/checkrc.pxd\", line 13, in zmq.backend.cython.checkrc._check_rc\n",
            "KeyboardInterrupt\n"
          ]
        },
        {
          "data": {
            "image/png": "[encoded data removed]",
            "text/plain": [
              "<Figure size 432x288 with 1 Axes>"
            ]
          },
          "metadata": {},
          "output_type": "display_data"
        }
      ]
    },
    {
      "cell_type": "code",
      "metadata": {
        "colab": {
          "base_uri": "https://localhost:8080/"
        },
        "id": "6oAoi8bYG7m8",
        "outputId": "6f9be9e3-4c3e-4d82-894e-3baab6c0faea"
      },
      "source": [
        "model.compile(optimizer = tf.keras.optimizers.Adam(learning_rate= 1e-5),\n",
        "                loss = 'categorical_crossentropy', metrics = ['accuracy'])\n",
        "\n",
        "history = model.fit(frames, train_vid_label, batch_size = 4, epochs = 100, validation_split = 0.2)"
      ],
      "execution_count": null,
      "outputs": [
        {
          "name": "stdout",
          "output_type": "stream",
          "text": [
            "Epoch 1/100\n",
            "22/24 [==========================>...] - ETA: 2s - loss: 9.2619 - accuracy: 0.4205"
          ]
        }
      ]
    },
    {
      "cell_type": "code",
      "metadata": {
        "colab": {
          "base_uri": "https://localhost:8080/",
          "height": 591
        },
        "id": "mpQEbGPrMcGm",
        "outputId": "022a22e9-08a4-4319-f773-e610cbeed75b"
      },
      "source": [
        "plt.plot(history.history['accuracy'])\n",
        "plt.plot(history.history['val_accuracy'])\n",
        "plt.title('Model Accuracy')\n",
        "plt.xlabel('epochs')\n",
        "plt.ylabel('Accuracy')\n",
        "plt.legend(['train', 'validation'], loc = 'lower right')\n",
        "plt.show()\n",
        "\n",
        "plt.plot(history.history['loss'])\n",
        "plt.plot(history.history['val_loss'])\n",
        "plt.title('Model Loses')\n",
        "plt.xlabel('Epochs')\n",
        "plt.ylabel('Loss')\n",
        "plt.legend(['train', 'validation'], loc = 'upper right')\n",
        "plt.show()\n",
        "\n",
        "gc.collect()"
      ],
      "execution_count": null,
      "outputs": [
        {
          "data": {
            "image/png": "[encoded data removed]",
            "text/plain": [
              "<Figure size 432x288 with 1 Axes>"
            ]
          },
          "metadata": {},
          "output_type": "display_data"
        },
        {
          "data": {
            "image/png": "[encoded data removed]",
            "text/plain": [
              "<Figure size 432x288 with 1 Axes>"
            ]
          },
          "metadata": {},
          "output_type": "display_data"
        },
        {
          "data": {
            "text/plain": [
              "22843"
            ]
          },
          "execution_count": 48,
          "metadata": {},
          "output_type": "execute_result"
        }
      ]
    },
    {
      "cell_type": "code",
      "metadata": {
        "colab": {
          "base_uri": "https://localhost:8080/"
        },
        "id": "I2TG1IKD6IQC",
        "outputId": "946b90b5-c0cc-4fb6-ef42-08a9d99cb3c8"
      },
      "source": [
        "s = time.time()\n",
        "\n",
        "test_vid_names = []\n",
        "test_vid_label = []\n",
        "\n",
        "test_csv = open('/content/drive/MyDrive/nnfl/assign2/test.csv')\n",
        "reader = csv.DictReader(test_csv)\n",
        "\n",
        "for row in reader:\n",
        "  test_vid_names.append(row['File'])\n",
        "    \n",
        "test_csv.close()\n",
        "test_vid_label = np.array(test_vid_label)\n",
        "e = time.time()\n",
        "print(e-s)\n",
        "gc.collect()"
      ],
      "execution_count": null,
      "outputs": [
        {
          "name": "stdout",
          "output_type": "stream",
          "text": [
            "0.00405430793762207\n"
          ]
        },
        {
          "data": {
            "text/plain": [
              "306"
            ]
          },
          "execution_count": 49,
          "metadata": {},
          "output_type": "execute_result"
        }
      ]
    },
    {
      "cell_type": "code",
      "metadata": {
        "colab": {
          "base_uri": "https://localhost:8080/",
          "height": 104,
          "referenced_widgets": [
            "74a1b86b11ad439da4d64af73e78fe18",
            "535b71355caf432baefbf805679835e3",
            "d109fe1daae9494389af8dff178b38d5",
            "279994bcc3114a789251fe71b9a4cee7",
            "ceece78a6d864c49a499b7a05b03e805",
            "63d91b5725e04420b900487b41d995fa",
            "70a439f7e3414dc2a99b38ac57f46ceb",
            "f77dd7810f8c4c938adbe42ea94778e0",
            "3cfa59e5c01244e1823b4596d7fafd5b",
            "86bf56e8d3494a3fb72e6dfaf3503755",
            "0dda77fba6e5472a8cdd003eaef8931a"
          ]
        },
        "id": "jz7oZ8q67kay",
        "outputId": "8b9d6002-d60d-4a4d-89dd-118439e46f40"
      },
      "source": [
        "frames_t = np.zeros((len(test_vid_names), max_frames, frame_size[0], frame_size[1], 3), dtype=np.float32)\n",
        "frame_count_t = []\n",
        "test_folder = '/content/drive/MyDrive/nnfl/assign2/test/'\n",
        "\n",
        "print(sys.getsizeof(frames))\n",
        "gc.collect()\n",
        "\n",
        "s = time.time()\n",
        "\n",
        "for i in tqdm(range(len(test_vid_names))):\n",
        "    \n",
        "    vid = cv2.VideoCapture(test_folder+test_vid_names[i])\n",
        "    \n",
        "    \n",
        "    # Load full video in temp\n",
        "    temp = [] \n",
        "    ret, frame = vid.read()\n",
        "    while ret:\n",
        "        temp.append(cv2.resize(frame,frame_size))\n",
        "        ret, frame = vid.read()\n",
        "     \n",
        "    length = len(temp)\n",
        "    \n",
        "    if length < max_frames:\n",
        "        \n",
        "        pads_required = max_frames % length\n",
        "        each_frame_multiplicity = max_frames // length\n",
        "        for _ in range(len(temp)):\n",
        "            for __ in range(each_frame_multiplicity):\n",
        "                frames_t[i][pads_required + _*each_frame_multiplicity + __] = temp[_]\n",
        "    else:\n",
        "        \n",
        "        jump = length / max_frames\n",
        "        for _ in range(max_frames):\n",
        "            frames_t[i][_] = temp[int(_*jump)]\n",
        "    # print(i)\n",
        "    frame_count_t.append(frames[i].shape)\n",
        "    gc.collect()\n",
        "\n",
        "e = time.time()\n",
        "print(e-s)\n",
        "\n",
        "gc.collect()"
      ],
      "execution_count": null,
      "outputs": [
        {
          "name": "stdout",
          "output_type": "stream",
          "text": [
            "2359296160\n"
          ]
        },
        {
          "data": {
            "application/vnd.jupyter.widget-view+json": {
              "model_id": "74a1b86b11ad439da4d64af73e78fe18",
              "version_major": 2,
              "version_minor": 0
            },
            "text/plain": [
              "  0%|          | 0/20 [00:00<?, ?it/s]"
            ]
          },
          "metadata": {},
          "output_type": "display_data"
        },
        {
          "name": "stdout",
          "output_type": "stream",
          "text": [
            "14.706251621246338\n"
          ]
        },
        {
          "data": {
            "text/plain": [
              "0"
            ]
          },
          "execution_count": 51,
          "metadata": {},
          "output_type": "execute_result"
        }
      ]
    },
    {
      "cell_type": "code",
      "metadata": {
        "colab": {
          "base_uri": "https://localhost:8080/"
        },
        "id": "wI1pJ8kK9kx_",
        "outputId": "f361f18c-7c44-4c64-d26f-fff2a2f382fe"
      },
      "source": [
        "s = time.time()\n",
        "output = model.predict(frames_t)\n",
        "e = time.time()\n",
        "print(e-s)\n",
        "\n",
        "test_vid_label = []\n",
        "for i in output:\n",
        "    test_vid_label.append('fire' if i[0]>0.5 else 'not_fire')"
      ],
      "execution_count": null,
      "outputs": [
        {
          "name": "stdout",
          "output_type": "stream",
          "text": [
            "2.9528274536132812\n"
          ]
        }
      ]
    },
    {
      "cell_type": "code",
      "metadata": {
        "id": "Qp-b57CF9kpc"
      },
      "source": [
        "! touch Submission.csv\n",
        "\n",
        "open('Submission.csv', 'w').close()\n",
        "\n",
        "output = open('Submission.csv', 'w')\n",
        "\n",
        "header = ['File', 'Label']\n",
        "writer = csv.writer(output)\n",
        "writer.writerow(header)\n",
        "\n",
        "for i in range(len(test_vid_names)):\n",
        "    writer.writerow([test_vid_names[i],test_vid_label[i]])\n",
        "\n",
        "output.close()"
      ],
      "execution_count": null,
      "outputs": []
    }
  ]
}